{
  "nbformat": 4,
  "nbformat_minor": 0,
  "metadata": {
    "colab": {
      "name": "Quesion_5.ipynb",
      "provenance": [],
      "collapsed_sections": [],
      "machine_shape": "hm"
    },
    "kernelspec": {
      "display_name": "Python 3",
      "name": "python3"
    }
  },
  "cells": [
    {
      "cell_type": "markdown",
      "metadata": {
        "id": "OjaJvUkubFQV"
      },
      "source": [
        "#Homework 3 ADM"
      ]
    },
    {
      "cell_type": "markdown",
      "metadata": {
        "id": "8QssCBC2l0yC"
      },
      "source": [
        "## **5.**"
      ]
    },
    {
      "cell_type": "markdown",
      "metadata": {
        "id": "6k2nvX542QH5"
      },
      "source": [
        "In this problem, the goal is to maximize the sum of values contained in a list, where each value represents the time that the person who made the appointment wants to spend with the personal trainer, so you want to provide the personal trainer with a program that maximizes the total length of accepted appointments. The important condition is that the personal trainer needs a break between appointments and cannot accept two consecutive bookings. In addition, reservations are considered in the order in which they were made, so that the personal trainer cannot go back and accept past bookings, but must follow the chronological order. "
      ]
    },
    {
      "cell_type": "markdown",
      "metadata": {
        "id": "dRCbAg7ll7Vg"
      },
      "source": [
        "### **5.1**"
      ]
    },
    {
      "cell_type": "markdown",
      "metadata": {
        "id": "nIQ3xby_hqdz"
      },
      "source": [
        "### **Formalization of the problem**\n",
        "From an algorithmic point of view, the problem results in: given an array of positive numbers, find the maximum sum of a subsequence with the constraint that no two numbers in the sequence should be adjacent in the array.\n",
        "\n",
        "### **Alghorithmic Idea**\n",
        "The algorithm cycles all the arguments within the array and maintains two sums. The first is the maximum sum including the previous element, and the second is the maximum sum excluding the previous element.\n",
        "The maximum sum excluding the current element will be max(sum1, sum2) and the maximum sum including the current element will be sum2 + current element.\n",
        "At the end of the cycle the maximum sum1 and sum2 will be returned."
      ]
    },
    {
      "cell_type": "markdown",
      "metadata": {
        "id": "fdAsnODal7fM"
      },
      "source": [
        "### **PseudoCode**\n",
        "\n",
        "\tInput:\n",
        "\t\tArr = array of positive numbers, with length n.\n",
        "\n",
        "\t## Function\n",
        "\tfunction trainer(Arr):\n",
        "\t\tsum1 = 0 ## we initiate the sums\n",
        "\t\tsum2 = 0 \n",
        "\t\n",
        "\t\t## Start for cycle\n",
        "\t\tfor i in Arr:\n",
        "\t\t\tif sum2 > sum1:\n",
        "\t\t\t\tnew_sum2 = sum2\n",
        "\t\t\telse:\n",
        "\t\t\t\tnew_sum2 = sum1\n",
        "\n",
        "\t\t\tsum1 = sum2 + i\n",
        "\t\t\tsum2 = new_sum2\n",
        "\n",
        "\t\t## return max of incl and excl\n",
        "\t\tif sum2 > sum1:\n",
        "\t\t\treturn sum2\n",
        "\t\telse:\n",
        "\t\t\treturn sum1"
      ]
    },
    {
      "cell_type": "markdown",
      "metadata": {
        "id": "LtL10Vlaq98M"
      },
      "source": [
        "### **5.2** \n",
        "Implement a program that given in input an instance in the form given above, gives the optimal solution."
      ]
    },
    {
      "cell_type": "code",
      "metadata": {
        "id": "nj1Hz60Cq7EH"
      },
      "source": [
        "def trainer(Arr):\n",
        "    sum1 = 0\n",
        "    sum2 = 0\n",
        "    \n",
        "    for i in Arr:\n",
        "        ## Current max excluding i\n",
        "        if sum2 > sum1:\n",
        "          new_sum2 = sum2\n",
        "        else:\n",
        "          new_sum2 = sum1\n",
        "          \n",
        "        ## Current max including i\n",
        "        sum1 = sum2 + i\n",
        "        sum2 = new_sum2\n",
        "     \n",
        "    ## Return max of incl and excl\n",
        "    if sum2 > sum1:\n",
        "      return sum2\n",
        "    else:\n",
        "      return sum1\n",
        "    "
      ],
      "execution_count": 2,
      "outputs": []
    },
    {
      "cell_type": "code",
      "metadata": {
        "colab": {
          "base_uri": "https://localhost:8080/"
        },
        "id": "cJe8UGeVrHk6",
        "outputId": "68059254-45e6-4210-8669-7eb173a85b8b"
      },
      "source": [
        "Arr = [30, 40, 25, 50, 30, 20]\n",
        "print('The Array is:', Arr, '\\n') \n",
        "print('Max Duration:', trainer(Arr))\n",
        "#print('The best way to accept appointements is:', trainer(Arr), 'with max duration of:', trainer(Arr))"
      ],
      "execution_count": 3,
      "outputs": [
        {
          "output_type": "stream",
          "name": "stdout",
          "text": [
            "The Array is: [30, 40, 25, 50, 30, 20] \n",
            "\n",
            "Max Duration: 110\n"
          ]
        }
      ]
    }
  ]
}