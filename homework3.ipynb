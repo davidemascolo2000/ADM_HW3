{
 "cells": [
  {
   "cell_type": "markdown",
   "metadata": {
    "colab_type": "text",
    "id": "view-in-github"
   },
   "source": [
    "<a href=\"https://colab.research.google.com/github/Parsa33033/ADM_HW3/blob/main/homework3.ipynb\" target=\"_parent\"><img src=\"https://colab.research.google.com/assets/colab-badge.svg\" alt=\"Open In Colab\"/></a>"
   ]
  },
  {
   "cell_type": "markdown",
   "metadata": {},
   "source": [
    "# ADM Homework 3"
   ]
  },
  {
   "cell_type": "code",
   "execution_count": null,
   "metadata": {
    "colab": {
     "base_uri": "https://localhost:8080/"
    },
    "id": "CR-dxW-68OXP",
    "outputId": "f197a5c5-f6a8-4303-a0dd-7fd5215e53cc"
   },
   "outputs": [
    {
     "name": "stdout",
     "output_type": "stream",
     "text": [
      "Mounted at /content/drive\n"
     ]
    }
   ],
   "source": [
    "from google.colab import drive, files\n",
    "drive.mount('/content/drive', force_remount = True)"
   ]
  },
  {
   "cell_type": "code",
   "execution_count": 89,
   "metadata": {
    "id": "rkVdjQff8ggD"
   },
   "outputs": [],
   "source": [
    "import requests\n",
    "import os\n",
    "from bs4 import BeautifulSoup\n",
    "from tqdm import tqdm\n",
    "from urllib.request import Request, urlopen\n",
    "import pandas as pd\n",
    "import csv\n",
    "import re\n",
    "import time\n",
    "import nltk\n",
    "from nltk.corpus import stopwords\n",
    "from nltk.tokenize import word_tokenize\n",
    "from nltk.stem import PorterStemmer\n",
    "import pickle"
   ]
  },
  {
   "cell_type": "markdown",
   "metadata": {},
   "source": [
    "## 1. Data collection"
   ]
  },
  {
   "cell_type": "code",
   "execution_count": 2,
   "metadata": {
    "id": "5F7tX0Mi81Ir"
   },
   "outputs": [],
   "source": [
    "num_of_pages = 384\n",
    "directory = \"\"\n",
    "links_file = \"anime.csv\""
   ]
  },
  {
   "cell_type": "markdown",
   "metadata": {},
   "source": [
    "### 1.1. Get the list of animes"
   ]
  },
  {
   "cell_type": "code",
   "execution_count": null,
   "metadata": {
    "colab": {
     "base_uri": "https://localhost:8080/"
    },
    "id": "rXKNsnC682xk",
    "outputId": "a9369342-4bc3-41aa-e9b8-d40eb636b0d0"
   },
   "outputs": [
    {
     "name": "stderr",
     "output_type": "stream",
     "text": [
      "100%|██████████| 384/384 [02:53<00:00,  2.21it/s]\n"
     ]
    }
   ],
   "source": [
    "anime = []\n",
    "\n",
    "                               \n",
    "if not os.path.isfile(links_file):\n",
    "    with open(directory + links_file, \"w\", encoding='utf-8', newline='') as fobj:\n",
    "        fobj.write(\"page,name,url\\n\")\n",
    "        for page in tqdm(range(0, num_of_pages)):\n",
    "            url = 'https://myanimelist.net/topanime.php?limit=' + str(page * 50)\n",
    "            response = requests.get(url)\n",
    "\n",
    "            soup = BeautifulSoup(response.text, 'html.parser')\n",
    "            for tag in soup.find_all('tr'):\n",
    "                links = tag.find_all('a')\n",
    "                for link in links:        \n",
    "                    if type(link.get('id')) == str and len(link.contents[0]) > 1:\n",
    "                        x = (page + 1, link.contents[0], link.get('href'))\n",
    "                        anime.append(x)\n",
    "                        writer = csv.writer(fobj)\n",
    "                        writer.writerow(x)"
   ]
  },
  {
   "cell_type": "markdown",
   "metadata": {},
   "source": [
    "### 1.2. Crawl animes"
   ]
  },
  {
   "cell_type": "code",
   "execution_count": 3,
   "metadata": {},
   "outputs": [],
   "source": [
    "pages_dir = directory + \"pages\"\n",
    "page_dir = pages_dir + \"/\" + \"page\"\n",
    "article = \"article\""
   ]
  },
  {
   "cell_type": "code",
   "execution_count": null,
   "metadata": {
    "colab": {
     "base_uri": "https://localhost:8080/",
     "height": 264
    },
    "id": "ZYKNkYqf84p_",
    "outputId": "82b6bd03-2088-4b25-da8c-152586d6766b"
   },
   "outputs": [],
   "source": [
    "if not os.path.exists(pages_dir):\n",
    "    os.makedirs(pages_dir)\n",
    "    \n",
    "def urlEncodeNonAscii(b):\n",
    "    return re.sub('[\\x80-\\xFF]', lambda c: '%%%02x' % ord(c.group(0)), b)\n",
    "\n",
    "ds = pd.read_csv(directory + links_file)\n",
    "i = 1\n",
    "for p, u in tqdm(zip(ds.page, ds.url)):\n",
    "    d = page_dir + str(p)\n",
    "    if not os.path.exists(d):\n",
    "        os.makedirs(d)\n",
    "    d = page_dir + str(p) + \"/\" + article + \"_\" + str(i) + \".html\"\n",
    "    \n",
    "    if not os.path.exists(d):\n",
    "#         request = requests.get(u, headers={'Cache-Control': 'no-cache', 'User-Agent': 'Mozilla/5.0'})\n",
    "        req = Request(u, headers={'User-Agent': 'XYZ/3.0'})\n",
    "        webpage = urlopen(req, timeout=100).read()\n",
    "        with open(d, \"w\", encoding='utf-8') as fobj:\n",
    "            fobj.write(webpage)\n",
    "    i += 1"
   ]
  },
  {
   "cell_type": "markdown",
   "metadata": {
    "id": "I9WbbqyPD__n"
   },
   "source": [
    "### 1.3 Parse downloaded pages"
   ]
  },
  {
   "cell_type": "code",
   "execution_count": 7,
   "metadata": {},
   "outputs": [],
   "source": [
    "def getText(parent):\n",
    "    return ''.join(parent.find_all(text=True, recursive=False)).strip()"
   ]
  },
  {
   "cell_type": "code",
   "execution_count": 22,
   "metadata": {},
   "outputs": [],
   "source": [
    "def article_parser(article_path, soup):\n",
    "        anime_title = soup.title.text.strip()\n",
    "        anime_type = \"\"\n",
    "        try:\n",
    "            anime_type = getText(soup.find('span', text=\"Type:\").parent.a)\n",
    "        except:\n",
    "            pass\n",
    "        anime_num_episodes = \"\"\n",
    "        try:\n",
    "            anime_num_episodes = getText(soup.find('span', text=\"Episodes:\").parent)\n",
    "        except:\n",
    "            pass\n",
    "        anime_aired = \"\"\n",
    "        try:\n",
    "            anime_aired = getText(soup.find('span', text=\"Aired:\").parent).split(\" to \")\n",
    "        except:\n",
    "            pass\n",
    "        anime_status = \"\"\n",
    "        try:\n",
    "            anime_status = getText(soup.find('span', text=\"Status:\").parent)\n",
    "        except:\n",
    "            pass\n",
    "        anime_score = \"\"\n",
    "        try:\n",
    "            anime_score = getText(soup.find('span', text=\"Score:\").parent.find_all('span', {'class': 'score-label'})[0])\n",
    "        except:\n",
    "            pass\n",
    "        anime_users = \"\"\n",
    "        try:\n",
    "            anime_users = getText(soup.find('span', text=\"Members:\").parent)\n",
    "        except:\n",
    "            pass\n",
    "        anime_rank = \"\"\n",
    "        try:\n",
    "            anime_rank = getText(soup.find('span', text=\"Ranked:\").parent)\n",
    "        except:\n",
    "            pass\n",
    "        anime_popularity = \"\"\n",
    "        try:\n",
    "            anime_popularity = getText(soup.find('span', text=\"Popularity:\").parent)\n",
    "        except:\n",
    "            pass\n",
    "        anime_description = \"\"\n",
    "        try:\n",
    "            anime_description = getText(soup.find('h2', text=\"Synopsis\").parent.parent.p)\n",
    "        except:\n",
    "            pass\n",
    "        anime_related = []\n",
    "        try: \n",
    "            anime_related = list(set(map(getText,soup.find('h2', text=\"Related Anime\").parent.parent.tr.find_all(lambda tag:tag.name == \"a\" and tag.href != \"\")))) \n",
    "        except: \n",
    "            pass\n",
    "        anime_characters = []\n",
    "        try:\n",
    "            anime_characters = list(filter(None,list(map(lambda tr: re.split('\\n+', tr.find_all('td')[1].text.strip())[0], soup.find('h2', text=\"Characters & Voice Actors\").find_next('div').find_all('tr')))))\n",
    "        except:\n",
    "            pass\n",
    "        anime_voices = []\n",
    "        try:\n",
    "            anime_voices = list(filter(None,list(map(lambda tr: re.split('\\n+', tr.find_all('td')[0].text.strip())[0], soup.find('h2', text=\"Characters & Voice Actors\").find_next('div').find_all('tr')))))\n",
    "        except:\n",
    "            pass\n",
    "        anime_staff = []\n",
    "        try:\n",
    "            anime_staff = list(map(lambda tr: re.split(\"\\n+\", tr.text.strip()), soup.find('h2', text=\"Staff\").find_next('div').find_all('tr')))\n",
    "        except:\n",
    "            pass\n",
    "        l = [anime_title,\n",
    "                anime_type,\n",
    "                anime_num_episodes,\n",
    "                anime_aired,\n",
    "                anime_status,\n",
    "                anime_score,\n",
    "                anime_users,\n",
    "                anime_rank,\n",
    "                anime_popularity,\n",
    "                anime_description,\n",
    "                anime_related,\n",
    "                anime_characters,\n",
    "                anime_voices,\n",
    "                anime_staff]\n",
    "        return l\n",
    "    "
   ]
  },
  {
   "cell_type": "code",
   "execution_count": 24,
   "metadata": {
    "scrolled": true
   },
   "outputs": [
    {
     "name": "stdout",
     "output_type": "stream",
     "text": [
      "2 ---> 100 ---> pages/page2/article_100.html\n",
      "4 ---> 200 ---> pages/page4/article_200.html\n",
      "6 ---> 300 ---> pages/page6/article_300.html\n",
      "8 ---> 400 ---> pages/page8/article_400.html\n",
      "10 ---> 500 ---> pages/page10/article_500.html\n",
      "12 ---> 600 ---> pages/page12/article_600.html\n",
      "14 ---> 700 ---> pages/page14/article_700.html\n",
      "16 ---> 800 ---> pages/page16/article_800.html\n",
      "18 ---> 900 ---> pages/page18/article_900.html\n",
      "20 ---> 1000 ---> pages/page20/article_1000.html\n",
      "22 ---> 1100 ---> pages/page22/article_1100.html\n",
      "24 ---> 1200 ---> pages/page24/article_1200.html\n",
      "26 ---> 1300 ---> pages/page26/article_1300.html\n",
      "28 ---> 1400 ---> pages/page28/article_1400.html\n",
      "30 ---> 1500 ---> pages/page30/article_1500.html\n",
      "32 ---> 1600 ---> pages/page32/article_1600.html\n",
      "34 ---> 1700 ---> pages/page34/article_1700.html\n",
      "41 ---> 2000 ---> pages/page41/article_2000.html\n",
      "43 ---> 2100 ---> pages/page43/article_2100.html\n",
      "45 ---> 2200 ---> pages/page45/article_2200.html\n",
      "47 ---> 2300 ---> pages/page47/article_2300.html\n",
      "49 ---> 2400 ---> pages/page49/article_2400.html\n",
      "51 ---> 2500 ---> pages/page51/article_2500.html\n",
      "53 ---> 2600 ---> pages/page53/article_2600.html\n",
      "55 ---> 2700 ---> pages/page55/article_2700.html\n",
      "57 ---> 2800 ---> pages/page57/article_2800.html\n",
      "59 ---> 2900 ---> pages/page59/article_2900.html\n",
      "61 ---> 3000 ---> pages/page61/article_3000.html\n",
      "63 ---> 3100 ---> pages/page63/article_3100.html\n",
      "65 ---> 3200 ---> pages/page65/article_3200.html\n",
      "67 ---> 3300 ---> pages/page67/article_3300.html\n",
      "69 ---> 3400 ---> pages/page69/article_3400.html\n",
      "71 ---> 3500 ---> pages/page71/article_3500.html\n",
      "73 ---> 3600 ---> pages/page73/article_3600.html\n",
      "75 ---> 3700 ---> pages/page75/article_3700.html\n",
      "77 ---> 3800 ---> pages/page77/article_3800.html\n",
      "79 ---> 3900 ---> pages/page79/article_3900.html\n",
      "81 ---> 4000 ---> pages/page81/article_4000.html\n",
      "83 ---> 4100 ---> pages/page83/article_4100.html\n",
      "85 ---> 4200 ---> pages/page85/article_4200.html\n",
      "87 ---> 4300 ---> pages/page87/article_4300.html\n",
      "89 ---> 4400 ---> pages/page89/article_4400.html\n",
      "91 ---> 4500 ---> pages/page91/article_4500.html\n",
      "93 ---> 4600 ---> pages/page93/article_4600.html\n",
      "95 ---> 4700 ---> pages/page95/article_4700.html\n",
      "97 ---> 4800 ---> pages/page97/article_4800.html\n",
      "99 ---> 4900 ---> pages/page99/article_4900.html\n",
      "101 ---> 5000 ---> pages/page101/article_5000.html\n",
      "103 ---> 5100 ---> pages/page103/article_5100.html\n",
      "105 ---> 5200 ---> pages/page105/article_5200.html\n",
      "107 ---> 5300 ---> pages/page107/article_5300.html\n",
      "109 ---> 5400 ---> pages/page109/article_5400.html\n",
      "111 ---> 5500 ---> pages/page111/article_5500.html\n",
      "113 ---> 5600 ---> pages/page113/article_5600.html\n",
      "115 ---> 5700 ---> pages/page115/article_5700.html\n",
      "117 ---> 5800 ---> pages/page117/article_5800.html\n",
      "119 ---> 5900 ---> pages/page119/article_5900.html\n",
      "121 ---> 6000 ---> pages/page121/article_6000.html\n",
      "123 ---> 6100 ---> pages/page123/article_6100.html\n",
      "125 ---> 6200 ---> pages/page125/article_6200.html\n",
      "127 ---> 6300 ---> pages/page127/article_6300.html\n",
      "129 ---> 6400 ---> pages/page129/article_6400.html\n",
      "131 ---> 6500 ---> pages/page131/article_6500.html\n",
      "133 ---> 6600 ---> pages/page133/article_6600.html\n",
      "135 ---> 6700 ---> pages/page135/article_6700.html\n",
      "137 ---> 6800 ---> pages/page137/article_6800.html\n",
      "139 ---> 6900 ---> pages/page139/article_6900.html\n",
      "141 ---> 7000 ---> pages/page141/article_7000.html\n",
      "143 ---> 7100 ---> pages/page143/article_7100.html\n",
      "145 ---> 7200 ---> pages/page145/article_7200.html\n",
      "147 ---> 7300 ---> pages/page147/article_7300.html\n",
      "149 ---> 7400 ---> pages/page149/article_7400.html\n",
      "151 ---> 7500 ---> pages/page151/article_7500.html\n",
      "153 ---> 7600 ---> pages/page153/article_7600.html\n",
      "155 ---> 7700 ---> pages/page155/article_7700.html\n",
      "157 ---> 7800 ---> pages/page157/article_7800.html\n",
      "159 ---> 7900 ---> pages/page159/article_7900.html\n",
      "161 ---> 8000 ---> pages/page161/article_8000.html\n",
      "163 ---> 8100 ---> pages/page163/article_8100.html\n",
      "165 ---> 8200 ---> pages/page165/article_8200.html\n",
      "167 ---> 8300 ---> pages/page167/article_8300.html\n",
      "169 ---> 8400 ---> pages/page169/article_8400.html\n",
      "171 ---> 8500 ---> pages/page171/article_8500.html\n",
      "173 ---> 8600 ---> pages/page173/article_8600.html\n",
      "175 ---> 8700 ---> pages/page175/article_8700.html\n",
      "177 ---> 8800 ---> pages/page177/article_8800.html\n",
      "179 ---> 8900 ---> pages/page179/article_8900.html\n",
      "181 ---> 9000 ---> pages/page181/article_9000.html\n",
      "183 ---> 9100 ---> pages/page183/article_9100.html\n",
      "185 ---> 9200 ---> pages/page185/article_9200.html\n",
      "187 ---> 9300 ---> pages/page187/article_9300.html\n",
      "189 ---> 9400 ---> pages/page189/article_9400.html\n",
      "191 ---> 9500 ---> pages/page191/article_9500.html\n",
      "193 ---> 9600 ---> pages/page193/article_9600.html\n",
      "195 ---> 9700 ---> pages/page195/article_9700.html\n",
      "197 ---> 9800 ---> pages/page197/article_9800.html\n",
      "199 ---> 9900 ---> pages/page199/article_9900.html\n",
      "201 ---> 10000 ---> pages/page201/article_10000.html\n",
      "203 ---> 10100 ---> pages/page203/article_10100.html\n",
      "205 ---> 10200 ---> pages/page205/article_10200.html\n",
      "207 ---> 10300 ---> pages/page207/article_10300.html\n",
      "209 ---> 10400 ---> pages/page209/article_10400.html\n",
      "211 ---> 10500 ---> pages/page211/article_10500.html\n",
      "213 ---> 10600 ---> pages/page213/article_10600.html\n",
      "215 ---> 10700 ---> pages/page215/article_10700.html\n",
      "217 ---> 10800 ---> pages/page217/article_10800.html\n",
      "219 ---> 10900 ---> pages/page219/article_10900.html\n",
      "221 ---> 11000 ---> pages/page221/article_11000.html\n",
      "223 ---> 11100 ---> pages/page223/article_11100.html\n",
      "225 ---> 11200 ---> pages/page225/article_11200.html\n",
      "227 ---> 11300 ---> pages/page227/article_11300.html\n",
      "229 ---> 11400 ---> pages/page229/article_11400.html\n",
      "231 ---> 11500 ---> pages/page231/article_11500.html\n",
      "233 ---> 11600 ---> pages/page233/article_11600.html\n",
      "235 ---> 11700 ---> pages/page235/article_11700.html\n",
      "237 ---> 11800 ---> pages/page237/article_11800.html\n",
      "239 ---> 11900 ---> pages/page239/article_11900.html\n",
      "241 ---> 12000 ---> pages/page241/article_12000.html\n",
      "243 ---> 12100 ---> pages/page243/article_12100.html\n",
      "245 ---> 12200 ---> pages/page245/article_12200.html\n",
      "247 ---> 12300 ---> pages/page247/article_12300.html\n",
      "249 ---> 12400 ---> pages/page249/article_12400.html\n",
      "251 ---> 12500 ---> pages/page251/article_12500.html\n",
      "253 ---> 12600 ---> pages/page253/article_12600.html\n",
      "255 ---> 12700 ---> pages/page255/article_12700.html\n",
      "257 ---> 12800 ---> pages/page257/article_12800.html\n",
      "259 ---> 12900 ---> pages/page259/article_12900.html\n",
      "261 ---> 13000 ---> pages/page261/article_13000.html\n",
      "263 ---> 13100 ---> pages/page263/article_13100.html\n",
      "265 ---> 13200 ---> pages/page265/article_13200.html\n",
      "267 ---> 13300 ---> pages/page267/article_13300.html\n",
      "269 ---> 13400 ---> pages/page269/article_13400.html\n",
      "271 ---> 13500 ---> pages/page271/article_13500.html\n",
      "273 ---> 13600 ---> pages/page273/article_13600.html\n",
      "275 ---> 13700 ---> pages/page275/article_13700.html\n",
      "277 ---> 13800 ---> pages/page277/article_13800.html\n",
      "279 ---> 13900 ---> pages/page279/article_13900.html\n",
      "281 ---> 14000 ---> pages/page281/article_14000.html\n",
      "283 ---> 14100 ---> pages/page283/article_14100.html\n",
      "285 ---> 14200 ---> pages/page285/article_14200.html\n",
      "287 ---> 14300 ---> pages/page287/article_14300.html\n",
      "289 ---> 14400 ---> pages/page289/article_14400.html\n",
      "291 ---> 14500 ---> pages/page291/article_14500.html\n",
      "293 ---> 14600 ---> pages/page293/article_14600.html\n",
      "295 ---> 14700 ---> pages/page295/article_14700.html\n",
      "297 ---> 14800 ---> pages/page297/article_14800.html\n",
      "299 ---> 14900 ---> pages/page299/article_14900.html\n",
      "301 ---> 15000 ---> pages/page301/article_15000.html\n",
      "303 ---> 15100 ---> pages/page303/article_15100.html\n",
      "305 ---> 15200 ---> pages/page305/article_15200.html\n",
      "307 ---> 15300 ---> pages/page307/article_15300.html\n",
      "309 ---> 15400 ---> pages/page309/article_15400.html\n",
      "311 ---> 15500 ---> pages/page311/article_15500.html\n",
      "313 ---> 15600 ---> pages/page313/article_15600.html\n",
      "315 ---> 15700 ---> pages/page315/article_15700.html\n",
      "317 ---> 15800 ---> pages/page317/article_15800.html\n",
      "319 ---> 15900 ---> pages/page319/article_15900.html\n",
      "321 ---> 16000 ---> pages/page321/article_16000.html\n",
      "323 ---> 16100 ---> pages/page323/article_16100.html\n",
      "325 ---> 16200 ---> pages/page325/article_16200.html\n",
      "327 ---> 16300 ---> pages/page327/article_16300.html\n"
     ]
    },
    {
     "name": "stdout",
     "output_type": "stream",
     "text": [
      "329 ---> 16400 ---> pages/page329/article_16400.html\n",
      "331 ---> 16500 ---> pages/page331/article_16500.html\n",
      "333 ---> 16600 ---> pages/page333/article_16600.html\n",
      "335 ---> 16700 ---> pages/page335/article_16700.html\n",
      "337 ---> 16800 ---> pages/page337/article_16800.html\n",
      "339 ---> 16900 ---> pages/page339/article_16900.html\n",
      "341 ---> 17000 ---> pages/page341/article_17000.html\n",
      "343 ---> 17100 ---> pages/page343/article_17100.html\n",
      "345 ---> 17200 ---> pages/page345/article_17200.html\n",
      "347 ---> 17300 ---> pages/page347/article_17300.html\n",
      "349 ---> 17400 ---> pages/page349/article_17400.html\n",
      "351 ---> 17500 ---> pages/page351/article_17500.html\n",
      "353 ---> 17600 ---> pages/page353/article_17600.html\n",
      "355 ---> 17700 ---> pages/page355/article_17700.html\n",
      "357 ---> 17800 ---> pages/page357/article_17800.html\n",
      "359 ---> 17900 ---> pages/page359/article_17900.html\n",
      "361 ---> 18000 ---> pages/page361/article_18000.html\n",
      "363 ---> 18100 ---> pages/page363/article_18100.html\n",
      "365 ---> 18200 ---> pages/page365/article_18200.html\n",
      "367 ---> 18300 ---> pages/page367/article_18300.html\n",
      "369 ---> 18400 ---> pages/page369/article_18400.html\n",
      "371 ---> 18500 ---> pages/page371/article_18500.html\n",
      "373 ---> 18600 ---> pages/page373/article_18600.html\n",
      "375 ---> 18700 ---> pages/page375/article_18700.html\n",
      "377 ---> 18800 ---> pages/page377/article_18800.html\n",
      "379 ---> 18900 ---> pages/page379/article_18900.html\n",
      "381 ---> 19000 ---> pages/page381/article_19000.html\n",
      "383 ---> 19100 ---> pages/page383/article_19100.html\n"
     ]
    }
   ],
   "source": [
    "num_of_docs = 19125\n",
    "i = 1\n",
    "with open('anime.tsv', 'w', encoding=\"utf-8\", newline='') as anime:\n",
    "    for p in range(1, num_of_pages + 1):\n",
    "        flag = True\n",
    "        if (flag): \n",
    "            article_path = page_dir + str(p) + \"/\" + article + \"_\" + str(i) + \".html\"\n",
    "            while os.path.isfile(article_path):\n",
    "                article_path = page_dir + str(p) + \"/\" + article + \"_\" + str(i) + \".html\"\n",
    "                if os.path.isfile(article_path):\n",
    "                    if i % 100 == 0:\n",
    "                        print(p, \"--->\", i, \"--->\", article_path)\n",
    "                    with open(article_path, 'rb') as html:\n",
    "                        soup = BeautifulSoup(html, \"html.parser\")\n",
    "                        l = article_parser(article_path, soup)\n",
    "\n",
    "                        writer = csv.writer(anime, delimiter='\\t')\n",
    "                        writer.writerow(l)\n",
    "                i += 1\n"
   ]
  },
  {
   "cell_type": "code",
   "execution_count": 42,
   "metadata": {},
   "outputs": [
    {
     "data": {
      "text/plain": [
       "18742"
      ]
     },
     "execution_count": 42,
     "metadata": {},
     "output_type": "execute_result"
    }
   ],
   "source": [
    "ds = pd.read_csv(\"anime.tsv\", delimiter='\\t')\n",
    "ds.columns = ['anime_title',\n",
    "                'anime_type',\n",
    "                'anime_num_episodes',\n",
    "                'anime_aired',\n",
    "                'anime_status',\n",
    "                'anime_score',\n",
    "                'anime_users',\n",
    "                'anime_rank',\n",
    "                'anime_popularity',\n",
    "                'anime_description',\n",
    "                'anime_related',\n",
    "                'anime_characters',\n",
    "                'anime_voices',\n",
    "                'anime_staff']\n",
    "len(ds)"
   ]
  },
  {
   "cell_type": "code",
   "execution_count": 48,
   "metadata": {},
   "outputs": [
    {
     "name": "stdout",
     "output_type": "stream",
     "text": [
      "showing info https://raw.githubusercontent.com/nltk/nltk_data/gh-pages/index.xml\n"
     ]
    },
    {
     "data": {
      "text/plain": [
       "True"
      ]
     },
     "execution_count": 48,
     "metadata": {},
     "output_type": "execute_result"
    }
   ],
   "source": [
    "nltk.download()"
   ]
  },
  {
   "cell_type": "code",
   "execution_count": 90,
   "metadata": {},
   "outputs": [],
   "source": [
    "ps = PorterStemmer()\n",
    "stopwords = stopwords.words()\n",
    "def preprocess(sentence):\n",
    "    text_tokens = nltk.word_tokenize(sentence)\n",
    "    tokens_without_sw = [ps.stem(word) for word in text_tokens if not word in stopwords and word.isalnum()]\n",
    "    return tokens_without_sw"
   ]
  },
  {
   "cell_type": "code",
   "execution_count": null,
   "metadata": {},
   "outputs": [
    {
     "name": "stdout",
     "output_type": "stream",
     "text": [
      "['gintoki', 'shinpachi', 'kagura', 'return', 'broke', 'member', 'yorozuya', 'team', 'live', 'edo', 'sword', 'prohibit', 'alien', 'overlord', 'conquer', 'japan', 'tri', 'thrive', 'whatev', 'work', 'get', 'hand', 'howev', 'shinpachi', 'kagura', 'still', 'paid', 'doe', 'realli', 'spend', 'cash', 'play', 'pachinko', 'meanwhil', 'gintoki', 'drunkenli', 'stagger', 'home', 'night', 'alien', 'spaceship', 'crash', 'nearbi', 'a', 'fatal', 'injur', 'crew', 'member', 'emerg', 'ship', 'give', 'gintoki', 'strang', 'devic', 'warn', 'incred', 'power', 'must', 'safeguard', 'mistak', 'alarm', 'clock', 'gintoki', 'proce', 'smash', 'devic', 'next', 'morn', 'suddenli', 'discov', 'world', 'outsid', 'apart', 'standstil', 'with', 'kagura', 'shinpachi', 'side', 'set', 'get', 'devic', 'fix', 'though', 'usual', 'noth', 'ever', 'simpl', 'yorozuya', 'team', 'fill', 'humor', 'moment', 'heartfelt', 'emot', 'fourth', 'season', 'find', 'gintoki', 'friend', 'face', 'hilari', 'misadventur', 'danger', 'crise', 'yet', 'written', 'mal', 'rewrit']\n",
      "['seek', 'restor', 'human', 'diminish', 'hope', 'survey', 'corp', 'embark', 'mission', 'retak', 'wall', 'maria', 'battl', 'merciless', 'titan', 'take', 'stage', 'return', 'tatter', 'shiganshina', 'district', 'home', 'eren', 'yeager', 'corp', 'find', 'town', 'oddli', 'unoccupi', 'titan', 'even', 'outer', 'gate', 'plug', 'strang', 'encount', 'opposit', 'the', 'mission', 'progress', 'smoothli', 'armin', 'arlert', 'highli', 'suspici', 'enemi', 'absenc', 'discov', 'distress', 'sign', 'potenti', 'scheme', 'follow', 'eren', 'vow', 'back', 'everyth', 'alongsid', 'survey', 'corp', 'countless', 'carv', 'path', 'toward', 'victori', 'uncov', 'secret', 'lock', 'away', 'yeager', 'famili', 'basement', 'written', 'mal', 'rewrit']\n",
      "['the', 'mad', 'scientist', 'rintar', 'okab', 'rent', 'room', 'ricketi', 'old', 'build', 'akihabara', 'indulg', 'hobbi', 'invent', 'prospect', 'futur', 'gadget', 'fellow', 'lab', 'member', 'mayuri', 'shiina', 'childhood', 'friend', 'hashida', 'itaru', 'pervert', 'hacker', 'nicknam', 'daru', 'the', 'three', 'pass', 'time', 'tinker', 'promis', 'contrapt', 'yet', 'machin', 'dub', 'phone', 'microwav', 'perform', 'strang', 'function', 'morph', 'banana', 'pile', 'green', 'gel', 'though', 'miracul', 'phenomenon', 'provid', 'anyth', 'concret', 'okab', 'search', 'scientif', 'breakthrough', 'lab', 'member', 'spur', 'action', 'string', 'mysteri', 'happen', 'stumbl', 'upon', 'unexpect', 'phone', 'microwav', 'send', 'email', 'past', 'alter', 'flow', 'histori', 'adapt', 'critic', 'acclaim', 'visual', 'novel', '5pb', 'nitroplu', 'take', 'okab', 'depth', 'scientif', 'theori', 'practic', 'forc', 'across', 'diverg', 'thread', 'past', 'present', 'okab', 'must', 'shoulder', 'burden', 'hold', 'key', 'realm', 'time', 'written', 'mal', 'rewrit']\n",
      "['hundr', 'year', 'ago', 'chines', 'zodiac', 'spirit', 'god', 'swore', 'stay', 'togeth', 'etern', 'unit', 'promis', 'possess', 'member', 'souma', 'famili', 'shall', 'alway', 'return', 'circumst', 'yet', 'bond', 'shackl', 'freedom', 'becom', 'undesir', 'curs', 'as', 'head', 'clan', 'akito', 'convinc', 'share', 'special', 'connect', 'souma', 'while', 'desper', 'cling', 'fantasi', 'rest', 'famili', 'remain', 'isol', 'suppress', 'fear', 'punish', 'tooru', 'honda', 'grown', 'attach', 'souma', 'determin', 'break', 'chain', 'bind', 'her', 'companionship', 'famili', 'friend', 'encourag', 'move', 'forward', 'lift', 'curs', 'howev', 'due', 'confound', 'revel', 'struggl', 'find', 'tenac', 'continu', 'endeavor', 'with', 'time', 'slowli', 'wither', 'away', 'tooru', 'contend', 'uncertain', 'futur', 'hope', 'reach', 'tranquil', 'may', 'lie', 'beyond', 'commot', 'written', 'mal', 'rewrit']\n",
      "['after', 'hiatu', 'shinpachi', 'shimura', 'return', 'edo', 'stumbl', 'upon', 'shock', 'surpris', 'gintoki', 'kagura', 'fellow', 'yorozuya', 'member', 'becom', 'complet', 'differ', 'charact', 'flee', 'yorozuya', 'headquart', 'confus', 'shinpachi', 'find', 'denizen', 'edo', 'undergon', 'imposs', 'extrem', 'chang', 'appear', 'person', 'most', 'unbeliev', 'sister', 'ota', 'marri', 'shinsengumi', 'chief', 'shameless', 'stalker', 'isao', 'kondou', 'pregnant', 'first', 'child', 'bewild', 'shinpachi', 'agre', 'join', 'shinsengumi', 'ota', 'kondou', 'request', 'find', 'even', 'startl', 'transform', 'afoot', 'rank', 'organ', 'howev', 'discov', 'vice', 'chief', 'toushir', 'hijikata', 'remain', 'unchang', 'shinpachi', 'unlik', 'shinsengumi', 'alli', 'set', 'return', 'citi', 'edo', 'rememb', 'with', 'even', 'dirti', 'joke', 'parodi', 'shameless', 'refer', 'follow', 'yorozuya', 'team', 'misadventur', 'vibrant', 'world', 'edo', 'written', 'mal', 'rewrit']\n",
      "['set', 'world', 'hunter', 'exist', 'perform', 'manner', 'danger', 'task', 'like', 'captur', 'crimin', 'brave', 'search', 'lost', 'treasur', 'unchart', 'territori', 'gon', 'freecss', 'determin', 'becom', 'best', 'hunter', 'possibl', 'hope', 'find', 'father', 'hunter', 'long', 'ago', 'abandon', 'young', 'howev', 'gon', 'soon', 'realiz', 'path', 'achiev', 'goal', 'far', 'challeng', 'could', 'ever', 'imagin', 'along', 'way', 'becom', 'offici', 'hunter', 'gon', 'befriend', 'live', 'leorio', 'veng', 'kurapika', 'rebelli', 'killua', 'to', 'attain', 'goal', 'desir', 'togeth', 'four', 'hunter', 'exam', 'notori', 'low', 'success', 'rate', 'high', 'probabl', 'death', 'throughout', 'journey', 'gon', 'friend', 'embark', 'adventur', 'put', 'mani', 'hardship', 'struggl', 'they', 'meet', 'plethora', 'monster', 'creatur', 'learn', 'hunter', 'truli', 'mean', 'written', 'mal', 'rewrit']\n",
      "['the', 'stalem', 'two', 'interstellar', 'superpow', 'galact', 'empir', 'free', 'planet', 'allianc', 'come', 'new', 'gener', 'leader', 'aris', 'idealist', 'militari', 'geniu', 'reinhard', 'lohengramm', 'fpa', 'reserv', 'historian', 'yang', 'wenli', 'while', 'reinhard', 'climb', 'rank', 'empir', 'aid', 'childhood', 'friend', 'siegfri', 'kirchei', 'must', 'fight', 'remnant', 'crumbl', 'goldenbaum', 'dynasti', 'order', 'free', 'sister', 'kaiser', 'unifi', 'human', 'genuin', 'ruler', 'meanwhil', 'side', 'galaxi', 'strong', 'support', 'democrat', 'stand', 'firm', 'belief', 'despit', 'struggl', 'fpa', 'show', 'pupil', 'julian', 'mintz', 'autocraci', 'solut', 'as', 'ideolog', 'clash', 'amidst', 'mani', 'casualti', 'two', 'strateg', 'mastermind', 'must', 'ask', 'real', 'reason', 'behind', 'battl', 'written', 'mal', 'rewrit']\n",
      "['while', 'gintoki', 'sakata', 'away', 'yorozuya', 'found', 'new', 'leader', 'kintoki', 'gintoki', 'doppelgang', 'in', 'order', 'regain', 'former', 'posit', 'gintoki', 'need', 'help', 'around', 'troubl', 'feat', 'rememb', 'between', 'kintoki', 'gintoki', 'claim', 'throne', 'main', 'charact', 'in', 'addit', 'yorozuya', 'make', 'trip', 'back', 'district', 'yoshiwara', 'aid', 'elderli', 'courtesan', 'search', 'lover', 'although', 'district', 'longer', 'chain', 'beneath', 'earth', 'surfac', 'trio', 'soon', 'learn', 'tragic', 'backstori', 'yoshiwara', 'inhabit', 'still', 'haunt', 'with', 'flashback', 'flashback', 'quest', 'yorozuya', 'wit', 'everlast', 'love', 'protect', 'best', 'heart', 'soul', 'includ', 'moment', 'intens', 'along', 'usual', 'lightheart', 'slapstick', 'humor', 'gintoki', 'friend', 'written', 'mal', 'rewrit']\n",
      "['new', 'movi']\n",
      "['after', 'join', 'resist', 'bakufu', 'gintoki', 'gang', 'hide', 'along', 'katsura', 'joui', 'rebel', 'the', 'yorozuya', 'soon', 'approach', 'nobum', 'imai', 'two', 'member', 'kiheitai', 'explain', 'harusam', 'pirat', 'turn', '7th', 'divis', 'captain', 'kamui', 'former', 'alli', 'takasugi', 'the', 'kiheitai', 'present', 'gintoki', 'job', 'find', 'takasugi', 'miss', 'sinc', 'ship', 'ambush', 'harusam', 'raid', 'nobum', 'make', 'stun', 'revel', 'regard', 'tendoushuu', 'secret', 'organ', 'pull', 'string', 'numer', 'faction', 'leader', 'utsuro', 'shadowi', 'figur', 'uncanni', 'resembl', 'gintoki', 'former', 'teacher', 'hitch', 'ride', 'sakamoto', 'space', 'ship', 'yorozuya', 'katsura', 'set', 'rakuy', 'kagura', 'home', 'planet', 'variou', 'faction', 'gather', 'tension', 'brew', 'grudg', 'polit', 'infight', 'tendoushuu', 'sinist', 'overarch', 'plan', 'final', 'culmin', 'massiv', 'decis', 'battl', 'rakuy', 'written', 'mal', 'rewrit']\n",
      "['now', 'second', 'year', 'high', 'school', 'rei', 'kiriyama', 'continu', 'push', 'struggl', 'profession', 'shogi', 'world', 'well', 'person', 'life', 'surround', 'vibrant', 'person', 'shogi', 'hall', 'school', 'club', 'local', 'commun', 'solitari', 'shell', 'slowli', 'begin', 'crack', 'among', 'three', 'kawamoto', 'hinata', 'forg', 'affection', 'famili', 'bond', 'rei', 'through', 'tie', 'realiz', 'everyon', 'burden', 'emot', 'hardship', 'begin', 'learn', 'reli', 'other', 'support', 'return', 'nonetheless', 'life', 'profession', 'easi', 'between', 'tournament', 'championship', 'titl', 'match', 'pressur', 'mount', 'rei', 'advanc', 'rank', 'encount', 'incred', 'skill', 'oppon', 'as', 'manag', 'relationship', 'grown', 'close', 'shogi', 'player', 'continu', 'search', 'reason', 'play', 'game', 'defin', 'career', 'written', 'mal', 'rewrit']\n"
     ]
    },
    {
     "name": "stdout",
     "output_type": "stream",
     "text": [
      "['as', 'wild', 'youth', 'elementari', 'school', 'student', 'shouya', 'ishida', 'sought', 'beat', 'boredom', 'cruelest', 'way', 'when', 'deaf', 'shouko', 'nishimiya', 'transfer', 'class', 'shouya', 'rest', 'class', 'thoughtlessli', 'bulli', 'fun', 'howev', 'mother', 'notifi', 'school', 'singl', 'blame', 'everyth', 'done', 'with', 'shouko', 'transfer', 'school', 'shouya', 'left', 'merci', 'classmat', 'he', 'heartlessli', 'ostrac', 'throughout', 'elementari', 'middl', 'school', 'teacher', 'turn', 'blind', 'eye', 'now', 'third', 'year', 'high', 'school', 'shouya', 'still', 'plagu', 'wrongdo', 'young', 'boy', 'sincer', 'regret', 'past', 'action', 'set', 'journey', 'redempt', 'meet', 'shouko', 'make', 'amend', 'tell', 'heartwarm', 'shouya', 'reunion', 'shouko', 'honest', 'attempt', 'redeem', 'continu', 'haunt', 'shadow', 'past', 'written', 'mal', 'rewrit']\n",
      "['sequel', 'critic', 'acclaim', 'seri', 'begin', 'tomoya', 'okazaki', 'nagisa', 'furukawa', 'graduat', 'high', 'school', 'togeth', 'experi', 'emot', 'rollercoast', 'grow', 'unabl', 'decid', 'cours', 'futur', 'tomoya', 'learn', 'valu', 'strong', 'work', 'ethic', 'discov', 'strength', 'nagisa', 'support', 'through', 'coupl', 'dedic', 'uniti', 'purpos', 'push', 'forward', 'confront', 'person', 'problem', 'deepen', 'old', 'relationship', 'creat', 'new', 'bond', 'time', 'move', 'illusionari', 'world', 'as', 'plain', 'grow', 'cold', 'approach', 'winter', 'illusionari', 'girl', 'garbag', 'doll', 'present', 'difficult', 'situat', 'reveal', 'world', 'true', 'purpos', 'base', 'visual', 'novel', 'key', 'produc', 'kyoto', 'anim', 'impact', 'drama', 'highlight', 'import', 'famili', 'struggl', 'adulthood', 'written', 'mal', 'rewrit']\n",
      "['the', 'amanto', 'alien', 'outer', 'space', 'invad', 'earth', 'taken', 'feudal', 'japan', 'as', 'result', 'prohibit', 'sword', 'establish', 'samurai', 'japan', 'treat', 'disregard', 'consequ', 'howev', 'gintoki', 'sakata', 'still', 'possess', 'heart', 'samurai', 'although', 'love', 'sweet', 'work', 'yorozuya', 'might', 'expect', 'accompani', 'line', 'work', 'shinpachi', 'shimura', 'boy', 'glass', 'strong', 'heart', 'kagura', 'umbrella', 'seemingli', 'bottomless', 'stomach', 'well', 'sadaharu', 'overs', 'of', 'cours', 'odd', 'job', 'alway', 'simpl', 'frequent', 'polic', 'ragtag', 'rebel', 'assassin', 'oftentim', 'lead', 'humor', 'unfortun', 'consequ', 'who', 'said', 'life', 'errand', 'boy', 'easi', 'written', 'mal', 'rewrit']\n",
      "['when', 'gintoki', 'apprehend', 'movi', 'pirat', 'premier', 'check', 'camera', 'footag', 'find', 'transport', 'bleak', 'version', 'edo', 'mysteri', 'epidem', 'call', 'white', 'plagu', 'ravish', 'world', 'popul', 'it', 'turn', 'movi', 'pirat', 'pirat', 'android', 'time', 'machin', 'gintoki', 'hurtl', 'five', 'year', 'futur', 'shinpachi', 'kagura', 'yorozuya', 'cohort', 'fall', 'solo', 'vigilant', 'miss', 'year', 'disappear', 'without', 'trace', 'scribbl', 'strang', 'messag', 'journal', 'set', 'disguis', 'given', 'android', 'time', 'machin', 'gintoki', 'haphazardli', 'reunit', 'yorozuya', 'team', 'investig', 'white', 'plagu', 'soon', 'discov', 'key', 'save', 'futur', 'lie', 'dark', 'past', 'determin', 'confront', 'power', 'foe', 'make', 'import', 'ragtag', 'band', 'friend', 'alli', 'side', 'fight', 'alon', 'written', 'mal', 'rewrit']\n",
      "['sever', 'year', 'pass', 'sinc', 'the', 'great', 'war', 'as', 'radio', 'tower', 'leidenschaftlich', 'continu', 'built', 'telephon', 'soon', 'becom', 'relev', 'lead', 'declin', 'demand', 'auto', 'memori', 'doll', 'even', 'violet', 'evergarden', 'continu', 'rise', 'fame', 'constant', 'success', 'write', 'letter', 'howev', 'sometim', 'thing', 'long', 'thing', 'appear', 'follow', 'violet', 'continu', 'comprehend', 'concept', 'emot', 'mean', 'love', 'at', 'time', 'pursu', 'glimmer', 'hope', 'told', 'i', 'love', 'may', 'still', 'aliv', 'even', 'mani', 'year', 'pass', 'written', 'mal', 'rewrit']\n",
      "['follow', 'encount', 'odditi', 'specialist', 'izuko', 'gaen', 'high', 'school', 'student', 'koyomi', 'araragi', 'wake', 'strang', 'desert', 'void', 'greet', 'joy', 'familiar', 'alarmingli', 'unfamiliar', 'place', 'araragi', 'help', 'girlfriend', 'hitagi', 'senjougahara', 'maneuv', 'web', 'past', 'perplex', 'present', 'search', 'answer', 'howev', 'fate', 'deliv', 'eccentr', 'transfer', 'student', 'ougi', 'oshino', 'bring', 'forth', 'unexpect', 'propos', 'may', 'unearth', 'foundat', 'anchor', 'as', 'araragi', 'peel', 'back', 'layer', 'mysteri', 'surround', 'apparit', 'discov', 'truth', 'meant', 'reveal', 'written', 'mal', 'rewrit']\n",
      "['gabi', 'braun', 'falco', 'grice', 'train', 'entir', 'live', 'inherit', 'seven', 'titan', 'marley', 'control', 'aid', 'nation', 'erad', 'eldian', 'paradi', 'howev', 'seem', 'well', 'two', 'cadet', 'peac', 'suddenli', 'shaken', 'arriv', 'eren', 'yeager', 'remain', 'member', 'survey', 'corp', 'have', 'final', 'reach', 'yeager', 'famili', 'basement', 'learn', 'dark', 'histori', 'surround', 'titan', 'survey', 'corp', 'long', 'last', 'found', 'answer', 'desper', 'fought', 'uncov', 'with', 'truth', 'hand', 'group', 'set', 'world', 'beyond', 'wall', 'in', 'two', 'utterli', 'differ', 'world', 'collid', 'parti', 'pursu', 'agenda', 'conclus', 'paradi', 'fight', 'freedom', 'written', 'mal', 'rewrit']\n",
      "['one', 'year', 'pass', 'sinc', 'black', 'rebellion', 'fail', 'upris', 'holi', 'britannian', 'empir', 'led', 'mask', 'vigilant', 'zero', 'miss', 'at', 'loss', 'without', 'revolutionari', 'leader', 'area', '11', 'resist', 'black', 'powerless', 'combat', 'brutal', 'inflict', 'upon', 'eleven', 'britannia', 'increas', 'significantli', 'order', 'crush', 'hope', 'futur', 'revolt', 'lelouch', 'lamperoug', 'lost', 'memori', 'doubl', 'life', 'live', 'peac', 'alongsid', 'friend', 'high', 'school', 'student', 'ashford', 'academi', 'hi', 'former', 'partner', 'unabl', 'accept', 'turn', 'event', 'take', 'upon', 'remind', 'past', 'purpos', 'hope', 'mastermind', 'zero', 'rise', 'finish', 'start', 'thrill', 'conclus', 'seri', 'written', 'mal', 'rewrit']\n",
      "['mitsuha', 'miyamizu', 'high', 'school', 'girl', 'yearn', 'live', 'life', 'boy', 'bustl', 'citi', 'dream', 'stand', 'stark', 'contrast', 'present', 'life', 'countrysid', 'meanwhil', 'citi', 'taki', 'tachibana', 'live', 'busi', 'life', 'high', 'school', 'student', 'juggl', 'job', 'hope', 'futur', 'architectur', 'one', 'day', 'mitsuha', 'awaken', 'room', 'suddenli', 'find', 'live', 'dream', 'life', 'taki', 'bodi', 'elsewher', 'taki', 'find', 'live', 'mitsuha', 'life', 'humbl', 'countrysid', 'in', 'pursuit', 'answer', 'strang', 'phenomenon', 'begin', 'search', 'anoth', 'revolv', 'around', 'mitsuha', 'taki', 'action', 'begin', 'dramat', 'impact', 'live', 'weav', 'fabric', 'held', 'togeth', 'fate', 'circumst', 'written', 'mal', 'rewrit']\n",
      "['second', 'season', 'final', 'arc']\n",
      "['it', 'said', 'pictur', 'worth', 'thousand', 'word', 'in', 'case', 'hold', 'infinit', 'amount', 'secret', 'these', 'secret', 'cheng', 'xiaoshi', 'lu', 'guang', 'abl', 'find', 'in', 'small', 'shop', 'call', 'time', 'photo', 'studio', 'two', 'friend', 'provid', 'special', 'servic', 'use', 'extraordinari', 'power', 'let', 'enter', 'photograph', 'jump', 'pictur', 'brought', 'client', 'order', 'grant', 'wish', 'through', 'eye', 'photograph', 'live', 'event', 'surround', 'pictur', 'tri', 'deciph', 'solv', 'client', 'request', 'but', 'everi', 'time', 'jump', 'pictur', 'great', 'risk', 'one', 'wrong', 'move', 'could', 'alter', 'futur', 'person', 'took', 'pictur', 'possibl', 'countless', 'event', 'so', 'event', 'forc', 'live', 'pictur', 'start', 'becom', 'person', 'utmost', 'strength', 'push', 'feel', 'asid', 'focu', 'accomplish', 'task', 'paid', 'written', 'mal', 'rewrit']\n",
      "['shigeo', 'mob', 'kageyama', 'matur', 'understand', 'role', 'supernatur', 'psychic', 'power', 'drastic', 'affect', 'livelihood', 'other', 'he', 'mentor', 'reigen', 'arataka', 'continu', 'deal', 'supernatur', 'request', 'client', 'whether', 'exorc', 'evil', 'spirit', 'tackl', 'urban', 'legend', 'haunt', 'citizen', 'while', 'workflow', 'remain', 'mob', 'blindli', 'follow', 'reigen', 'around', 'anymor', 'with', 'experi', 'ridicul', 'strong', 'psychic', 'mob', 'supernatur', 'adventur', 'weight', 'thing', 'seriou', 'darker', 'tone', 'danger', 'mob', 'reigen', 'much', 'tangibl', 'unsettl', 'ever', 'written', 'mal', 'rewrit']\n",
      "['after', 'fierc', 'battl', 'rakuy', 'untold', 'past', 'true', 'goal', 'immort', 'naraku', 'leader', 'utsuro', 'final', 'reveal', 'by', 'corrupt', 'altana', 'reserv', 'sever', 'planet', 'utsuro', 'success', 'trigger', 'intervent', 'tendoshuu', 'greatest', 'enemi', 'altana', 'liber', 'armi', 'with', 'earth', 'main', 'battleground', 'interplanetari', 'utsuro', 'master', 'plan', 'destroy', 'nearli', 'complet', 'an', 'attack', 'central', 'termin', 'mark', 'begin', 'final', 'battl', 'back', 'land', 'samurai', 'with', 'yorozuya', 'nowher', 'sight', 'bakufu', 'collaps', 'shogun', 'miss', 'peopl', 'left', 'complet', 'helpless', 'liber', 'armi', 'begin', 'pillag', 'edo', 'free', 'tendoshuu', 'rule', 'caught', 'crossfir', 'two', 'equal', 'impos', 'forc', 'gintoki', 'kagura', 'shinpachi', 'former', 'student', 'shouyou', 'yoshida', 'put', 'asid', 'differ', 'unit', 'alli', 'protect', 'hold', 'dear', 'written', 'mal', 'rewrit']\n"
     ]
    },
    {
     "name": "stdout",
     "output_type": "stream",
     "text": [
      "['after', 'victori', 'aoba', 'jousai', 'high', 'karasuno', 'high', 'school', 'call', 'fallen', 'powerhous', 'crow', 'fli', 'final', 'reach', 'climax', 'heat', 'spring', 'tournament', 'now', 'advanc', 'nation', 'karasuno', 'team', 'defeat', 'powerhous', 'shiratorizawa', 'academi', 'karasuno', 'greatest', 'hurdl', 'adversari', 'ace', 'wakatoshi', 'ushijima', 'number', 'player', 'miyagi', 'prefectur', 'countri', 'top', 'three', 'ace', 'onli', 'strongest', 'team', 'make', 'nation', 'tournament', 'sinc', 'match', 'player', 'last', 'chanc', 'qualifi', 'nation', 'karasuno', 'use', 'everyth', 'learn', 'train', 'camp', 'prior', 'match', 'attain', 'victori', 'fill', 'restless', 'excit', 'team', 'determin', 'top', 'third', 'season', 'written', 'mal', 'rewrit']\n",
      "['after', 'help', 'reviv', 'legendari', 'vampir', 'koyomi', 'araragi', 'becom', 'vampir', 'servant', 'certain', 'turn', 'back', 'human', 'regain', 'full', 'power', 'araragi', 'hunt', 'three', 'vampir', 'hunter', 'defeat', 'retriev', 'limb', 'return', 'full', 'strength', 'howev', 'araragi', 'almost', 'accomplish', 'fight', 'whole', 'time', 'consid', 'realli', 'want', 'onc', 'reviv', 'power', 'immort', 'vampir', 'tell', 'might', 'would', 'way', 'stop', 'but', 'stori', 'araragi', 'understand', 'if', 'newborn', 'vampir', 'like', 'could', 'defeat', 'hunter', 'overpow', 'can', 'trust', 'turn', 'back', 'human', 'and', 'even', 'possibl', 'first', 'place', 'araragi', 'limit', 'must', 'decis', 'may', 'possibl', 'resolv', 'situat', 'without', 'someth', 'written', 'mal', 'rewrit']\n",
      "['kenzou', 'tenma', 'elit', 'neurosurgeon', 'recent', 'engag', 'hospit', 'director', 'daughter', 'well', 'way', 'ascend', 'hospit', 'hierarchi', 'that', 'night', 'seemingli', 'small', 'event', 'chang', 'tenma', 'life', 'forev', 'while', 'prepar', 'perform', 'surgeri', 'someon', 'get', 'call', 'hospit', 'director', 'tell', 'switch', 'patient', 'instead', 'perform', 'brain', 'surgeri', 'famou', 'perform', 'hi', 'fellow', 'doctor', 'fiancé', 'hospit', 'director', 'applaud', 'accomplish', 'switch', 'poor', 'immigr', 'worker', 'dead', 'caus', 'tenma', 'crisi', 'conscienc', 'so', 'similar', 'situat', 'aris', 'tenma', 'stand', 'ground', 'choos', 'perform', 'surgeri', 'young', 'boy', 'johan', 'liebert', 'instead', 'town', 'mayor', 'unfortun', 'choic', 'lead', 'seriou', 'ramif', 'social', 'stand', 'howev', 'mysteri', 'death', 'director', 'two', 'doctor', 'tenma', 'posit', 'restor', 'with', 'evid', 'convict', 'releas', 'goe', 'attain', 'posit', 'hospit', 'director', 'nine', 'year', 'later', 'tenma', 'save', 'life', 'crimin', 'past', 'come', 'back', 'haunt', 'come', 'monster', 'oper', 'he', 'must', 'embark', 'quest', 'pursuit', 'make', 'amend', 'havoc', 'spread', 'save', 'written', 'mal', 'rewrit']\n",
      "['eccentr', 'blunt', 'walru', 'hiroshi', 'odokawa', 'live', 'rel', 'normal', 'life', 'he', 'drive', 'taxi', 'live', 'meet', 'sever', 'uniqu', 'individu', 'jobless', 'taichi', 'kabasawa', 'go', 'viral', 'mysteri', 'nurs', 'miho', 'shirakawa', 'struggl', 'comed', 'duo', 'homo', 'sapien', 'dobu', 'delinqu', 'but', 'odokawa', 'simpl', 'way', 'life', 'turn', 'the', 'case', 'miss', 'girl', 'polic', 'track', 'lead', 'back', 'yakuza', 'duo', 'corrupt', 'cop', 'tail', 'set', 'strang', 'familiar', 'citi', 'fill', 'unusu', 'individu', 'bizarr', 'stori', 'humbl', 'taxi', 'driver', 'mysteri', 'lost', 'high', 'schooler', 'written', 'mal', 'rewrit']\n",
      "['stubborn', 'spoil', 'naïv', 'chihiro', 'ogino', 'less', 'pleas', 'parent', 'discov', 'abandon', 'amus', 'park', 'way', 'new', 'hous', 'cautious', 'ventur', 'insid', 'realiz', 'place', 'meet', 'eye', 'strang', 'thing', 'begin', 'happen', 'dusk', 'fall', 'ghostli', 'apparit', 'food', 'turn', 'parent', 'pig', 'unwittingli', 'cross', 'spirit', 'world', 'now', 'trap', 'must', 'summon', 'courag', 'live', 'work', 'amongst', 'spirit', 'help', 'enigmat', 'haku', 'cast', 'uniqu', 'charact', 'meet', 'along', 'way', 'vivid', 'intrigu', 'tell', 'stori', 'chihiro', 'journey', 'unfamiliar', 'world', 'strive', 'save', 'parent', 'return', 'home', 'written', 'mal', 'rewrit']\n",
      "['apparit', 'odditi', 'god', 'continu', 'manifest', 'around', 'koyomi', 'araragi', 'group', 'friend', 'tsubasa', 'hanekawa', 'group', 'modest', 'geniu', 'shinobu', 'oshino', 'resid', 'vampir', 'athlet', 'deviant', 'suruga', 'kanbaru', 'spirit', 'mayoi', 'hachikuji', 'koyomi', 'cutesi', 'stalker', 'nadeko', 'sengoku', 'hitagi', 'senjogahara', 'poignant', 'tsunder', 'revolv', 'around', 'individu', 'struggl', 'overcom', 'dark', 'rapidli', 'approach', 'a', 'new', 'semest', 'begun', 'graduat', 'loom', 'araragi', 'must', 'quickli', 'decid', 'path', 'walk', 'well', 'relationship', 'friend', 'save', 'but', 'strang', 'event', 'begin', 'unfold', 'araragi', 'nowher', 'found', 'viciou', 'tiger', 'apparit', 'appear', 'absenc', 'hanekawa', 'becom', 'target', 'must', 'fend', 'bow', 'creatur', 'perspect', 'feebl', 'human', 'written', 'mal', 'rewrit']\n",
      "['the', 'web', 'manga', 'center', 'around', 'bojji', 'deaf', 'powerless', 'princ', 'even', 'wield', 'children', 'sword', 'as', 'firstborn', 'strive', 'hard', 'dream', 'becom', 'world', 'greatest', 'king', 'howev', 'peopl', 'mutter', 'behind', 'back', 'princ', 'way', 'king', 'bojji', 'abl', 'make', 'first', 'ever', 'friend', 'kage', 'shadow', 'liter', 'shadow', 'ground', 'somehow', 'understand', 'bojji', 'well', 'kage', 'survivor', 'kage', 'assassin', 'clan', 'wipe', 'no', 'longer', 'killer', 'kage', 'make', 'end', 'meet', 'steal', 'the', 'stori', 'follow', 'bojji', 'meet', 'variou', 'peopl', 'life', 'start', 'fate', 'encount', 'kage', 'sourc', 'mal', 'new']\n",
      "['in', 'year', '2071', 'human', 'colon', 'sever', 'planet', 'moon', 'solar', 'system', 'leav', 'uninhabit', 'surfac', 'planet', 'earth', 'behind', 'the', 'inter', 'solar', 'system', 'polic', 'attempt', 'keep', 'peac', 'galaxi', 'aid', 'part', 'outlaw', 'bounti', 'hunter', 'refer', 'cowboy', 'the', 'ragtag', 'team', 'aboard', 'spaceship', 'bebop', 'two', 'individu', 'mellow', 'carefre', 'spike', 'spiegel', 'balanc', 'boister', 'pragmat', 'partner', 'jet', 'black', 'pair', 'make', 'live', 'chase', 'bounti', 'collect', 'reward', 'thrown', 'cours', 'addit', 'new', 'member', 'meet', 'genet', 'engin', 'highli', 'intellig', 'welsh', 'corgi', 'femm', 'fatal', 'fay', 'valentin', 'enigmat', 'trickster', 'memori', 'loss', 'strang', 'comput', 'whiz', 'kid', 'edward', 'crew', 'embark', 'thrill', 'adventur', 'unravel', 'member', 'dark', 'mysteri', 'past', 'littl', 'littl', 'high', 'densiti', 'action', 'comedi', 'space', 'western', 'classic', 'homag', 'smooth', 'improvis', 'music', 'name', 'written', 'mal', 'rewrit']\n",
      "['follow', 'success', 'sanyou', 'campaign', 'qin', 'armi', 'includ', 'command', 'li', 'xin', 'inch', 'ever', 'closer', 'fulfil', 'king', 'ying', 'zheng', 'dream', 'unifi', 'china', 'with', 'major', 'geograph', 'foothold', 'state', 'wei', 'control', 'qin', 'set', 'sight', 'eastward', 'toward', 'remain', 'war', 'state', 'meanwhil', 'li', 'unparallel', 'strategist', 'newli', 'appoint', 'prime', 'minist', 'state', 'taken', 'advantag', 'zhao', 'temporari', 'truce', 'qin', 'negoti', 'state', 'without', 'interrupt', 'seemingli', 'without', 'warn', 'ying', 'zheng', 'receiv', 'news', 'armi', 'state', 'chu', 'zhao', 'wei', 'han', 'yan', 'qi', 'cross', 'qin', 'territori', 'realiz', 'late', 'purpos', 'behind', 'li', 'mu', 'truce', 'qin', 'zheng', 'quickli', 'gather', 'advisor', 'devis', 'plan', 'address', 'coalit', 'armi', 'doorstep', 'for', 'first', 'time', 'histori', 'state', 'qin', 'face', 'complet', 'destruct', 'must', 'use', 'everi', 'resourc', 'strategi', 'dispos', 'prevent', 'wipe', 'map', 'written', 'mal', 'rewrit']\n",
      "['the', 'third', 'final', 'season', 'cover', 'yi', 'citi', 'arc', 'the', 'stori', 'follow', 'two', 'main', 'charact', 'wei', 'wuxian', 'lan', 'wangji', 'tri', 'finish', 'solv', 'mysteri', 'behind', 'haunt', 'arm', 'unknown', 'corps']\n",
      "['even', 'risen', 'utmost', 'rank', 'yotar', 'struggl', 'find', 'ident', 'world', 'rakugo', 'caught', 'master', 'teach', 'late', 'sukeroku', 'uniqu', 'style', 'perform', 'lack', 'import', 'and', 'popular', 'pack', 'theater', 'rakugo', 'threat', 'eclips', 'meanwhil', 'yakumo', 'regard', 'mani', 'last', 'bastion', 'preserv', 'popular', 'rakugo', 'struggl', 'cope', 'elderli', 'state', 'even', 'though', 'perform', 'still', 'stellar', 'fear', 'near', 'limit', 'hi', 'doubt', 'grow', 'stronger', 'old', 'friend', 'creep', 'ever', 'closer', 'konatsu', 'part', 'attempt', 'rais', 'singl', 'mother', 'yotar', 'heavili', 'oppos', 'instead', 'seek', 'persuad', 'marri', 'turn', 'rais', 'in', 'curtain', 'fall', 'yotar', 'yakumo', 'stori', 'task', 'restor', 'art', 'form', 'well', 'overcom', 'intern', 'conflict', 'written', 'mal', 'rewrit']\n"
     ]
    },
    {
     "name": "stdout",
     "output_type": "stream",
     "text": [
      "['ghostli', 'primordi', 'be', 'known', 'mushi', 'continu', 'caus', 'mysteri', 'chang', 'live', 'human', 'the', 'travel', 'mushishi', 'ginko', 'persist', 'tri', 'set', 'right', 'strang', 'unsettl', 'situat', 'encount', 'time', 'loop', 'live', 'shadow', 'telepathi', 'among', 'overt', 'effect', 'interfer', 'mushi', 'subtl', 'symptom', 'year', 'notic', 'rous', 'ginko', 'concern', 'pass', 'villag', 'villag', 'through', 'circumst', 'ginko', 'becom', 'arbit', 'determin', 'mushi', 'bless', 'curs', 'but', 'line', 'seek', 'draw', 'subject', 'some', 'patient', 'would', 'rather', 'exercis', 'new', 'power', 'utterli', 'consum', 'other', 'desper', 'strive', 'rid', 'afflict', 'fact', 'protect', 'live', 'devast', 'those', 'cross', 'path', 'mushi', 'must', 'learn', 'accept', 'seemingli', 'imposs', 'consequ', 'action', 'heal', 'wound', 'know', 'otherwis', 'risk', 'meet', 'fate', 'beyond', 'comprehens', 'written', 'mal', 'rewrit']\n",
      "['the', 'fifth', 'holi', 'grail', 'war', 'fuyuki', 'citi', 'reach', 'turn', 'point', 'live', 'particip', 'threaten', 'hidden', 'enemi', 'final', 'reveal', 'as', 'shirou', 'emiya', 'rin', 'toosaka', 'illyasviel', 'einzbern', 'discov', 'true', 'corrupt', 'natur', 'shadow', 'rampag', 'throughout', 'citi', 'realiz', 'dire', 'situat', 'in', 'order', 'protect', 'belov', 'one', 'group', 'must', 'hold', 'seemingli', 'insurmount', 'enemi', 'foe', 'alli', 'perhap', 'someth', 'intim', 'as', 'final', 'act', 'chaotic', 'commenc', 'ideal', 'shirou', 'believ', 'soon', 'challeng', 'excruci', 'dilemma', 'realli', 'possibl', 'save', 'world', 'everyth', 'seem', 'gone', 'wrong', 'written', 'mal', 'rewrit']\n",
      "['makunouchi', 'ippo', 'bulli', 'entir', 'life', 'constantli', 'run', 'errand', 'beaten', 'classmat', 'ippo', 'alway', 'dream', 'chang', 'never', 'passion', 'act', 'upon', 'one', 'day', 'midst', 'yet', 'anoth', 'bulli', 'ippo', 'save', 'takamura', 'mamoru', 'happen', 'boxer', 'ippo', 'faint', 'injuri', 'brought', 'kamogawa', 'box', 'gym', 'recov', 'as', 'regain', 'conscious', 'awe', 'amaz', 'new', 'surround', 'gym', 'though', 'lack', 'confid', 'attempt', 'anyth', 'takamura', 'place', 'photo', 'ippo', 'classmat', 'punch', 'bag', 'forc', 'punch', 'it', 'ippo', 'feel', 'someth', 'stir', 'insid', 'eventu', 'ask', 'takamura', 'train', 'box', 'think', 'ippo', 'take', 'takamura', 'give', 'task', 'deem', 'imposs', 'give', 'week', 'time', 'limit', 'with', 'sudden', 'desir', 'get', 'stronger', 'hard', 'work', 'mother', 'ippo', 'train', 'relentlessli', 'accomplish', 'task', 'within', 'time', 'limit', 'thu', 'ippo', 'journey', 'top', 'box', 'world', 'begin', 'written', 'mal', 'rewrit']\n",
      "['idli', 'indulg', 'baseless', 'paranorm', 'activ', 'occult', 'club', 'high', 'schooler', 'yuuji', 'itadori', 'spend', 'day', 'either', 'clubroom', 'hospit', 'visit', 'bedridden', 'grandfath', 'howev', 'leisur', 'lifestyl', 'soon', 'take', 'turn', 'strang', 'unknowingli', 'encount', 'curs', 'item', 'trigger', 'chain', 'supernatur', 'occurr', 'yuuji', 'find', 'suddenli', 'thrust', 'world', 'be', 'form', 'human', 'malic', 'swallow', 'said', 'item', 'reveal', 'finger', 'belong', 'demon', 'sukuna', 'ryoumen', 'king', 'curs', 'yuuji', 'experi', 'threat', 'curs', 'pose', 'societi', 'discov', 'newfound', 'power', 'introduc', 'tokyo', 'metropolitan', 'jujutsu', 'technic', 'high', 'school', 'begin', 'walk', 'path', 'path', 'jujutsu', 'sorcer', 'written', 'mal', 'rewrit']\n",
      "['young', 'thorfinn', 'grew', 'listen', 'stori', 'old', 'sailor', 'travel', 'ocean', 'reach', 'place', 'legend', 'vinland', 'it', 'said', 'warm', 'fertil', 'place', 'would', 'need', 'like', 'frozen', 'villag', 'iceland', 'born', 'certainli', 'like', 'current', 'life', 'mercenari', 'war', 'home', 'though', 'father', 'told', 'you', 'enemi', 'nobodi', 'there', 'nobodi', 'okay', 'hurt', 'grew', 'thorfinn', 'knew', 'noth', 'truth', 'the', 'england', 'dane', 'grow', 'wors', 'pass', 'year', 'death', 'becom', 'commonplac', 'vike', 'mercenari', 'love', 'everi', 'moment', 'alli', 'either', 'side', 'caus', 'massiv', 'swing', 'balanc', 'power', 'vike', 'happi', 'make', 'name', 'spoil', 'earn', 'along', 'way', 'among', 'chao', 'thorfinn', 'must', 'reveng', 'kill', 'askeladd', 'murder', 'father', 'the', 'paradis', 'vike', 'seem', 'death', 'rage', 'written', 'mal', 'rewrit']\n",
      "['when', 'mankind', 'savageri', 'surpass', 'fear', 'death', 'littl', 'hope', 'wish', 'live', 'honest', 'live', 'beneath', 'full', 'moon', 'young', 'boy', 'wit', 'murder', 'bandit', 'enslav', 'christen', 'new', 'rescu', 'thi', 'boy', 'shinta', 'known', 'kenshin', 'himura', 'destin', 'becom', 'swordsman', 'the', 'soft', 'heart', 'befit', 'occup', 'desir', 'protect', 'innoc', 'absolut', 'detail', 'origin', 'would', 'bear', 'hitokiri', 'battousai', 'long', 'swore', 'oath', 'kill', 'earn', 'reput', 'assassin', 'the', 'young', 'heart', 'divid', 'justic', 'corrupt', 'fate', 'nation', 'rest', 'action', 'written', 'mal', 'rewrit']\n",
      "['perceiv', 'strang', 'fear', 'time', 'misshapen', 'one', 'came', 'known', 'mushi', 'although', 'harbor', 'intent', 'toward', 'human', 'mani', 'suffer', 'side', 'effect', 'exist', 'strang', 'natur', 'exploit', 'mushi', 'without', 'understand', 'even', 'unintent', 'lead', 'disast', 'strife', 'involv', 'continu', 'stori', 'mushishi', 'ginko', 'journey', 'help', 'visibl', 'world', 'coexist', 'mushi', 'dure', 'travel', 'ginko', 'discov', 'variou', 'gift', 'curs', 'circumst', 'maintain', 'fragil', 'symbiosi', 'confront', 'question', 'whether', 'human', 'talent', 'tortur', 'alik', 'manag', 'respons', 'unseen', 'moreov', 'mushishi', 'ginko', 'must', 'learn', 'strang', 'be', 'decid', 'right', 'interfer', 'complex', 'relationship', 'mushi', 'mankind', 'written', 'mal', 'rewrit']\n",
      "['in', 'year', '2010', 'holi', 'empir', 'britannia', 'establish', 'domin', 'militari', 'nation', 'start', 'conquest', 'japan', 'renam', 'area', '11', 'swift', 'defeat', 'japan', 'seen', 'signific', 'resist', 'tyrant', 'attempt', 'regain', 'independ', 'lelouch', 'lamperoug', 'britannian', 'student', 'unfortun', 'find', 'caught', 'crossfir', 'britannian', 'area', '11', 'rebel', 'arm', 'forc', 'he', 'abl', 'escap', 'howev', 'thank', 'time', 'appear', 'mysteri', 'girl', 'name', 'bestow', 'upon', 'geass', 'power', 'king', 'realiz', 'vast', 'potenti', 'newfound', 'power', 'absolut', 'obedi', 'lelouch', 'embark', 'upon', 'peril', 'journey', 'mask', 'vigilant', 'known', 'zero', 'lead', 'merciless', 'onslaught', 'britannia', 'order', 'get', 'reveng', 'written', 'mal', 'rewrit']\n",
      "['after', 'string', 'mysteri', 'disappear', 'begin', 'plagu', 'train', 'demon', 'slayer', 'corp', 'multipl', 'attempt', 'remedi', 'problem', 'prove', 'fruitless', 'to', 'prevent', 'casualti', 'flame', 'pillar', 'kyoujur', 'rengoku', 'take', 'upon', 'elimin', 'threat', 'accompani', 'corp', 'promis', 'new', 'blood', 'tanjir', 'kamado', 'zenitsu', 'agatsuma', 'inosuk', 'hashibira', 'hope', 'wit', 'fieri', 'feat', 'model', 'demon', 'slayer', 'firsthand', 'unbeknownst', 'demon', 'forc', 'respons', 'disappear', 'alreadi', 'put', 'sinist', 'plan', 'motion', 'under', 'demon', 'presenc', 'group', 'must', 'muster', 'everi', 'ounc', 'willpow', 'draw', 'sword', 'save', 'two', 'hundr', 'passeng', 'onboard', 'delv', 'deepest', 'corner', 'tanjir', 'mind', 'put', 'resolv', 'commit', 'duti', 'test', 'written', 'mal', 'rewrit']\n",
      "['the', 'gape', 'chasm', 'stretch', 'depth', 'earth', 'fill', 'mysteri', 'creatur', 'relic', 'time', 'long', 'past', 'how', 'what', 'lie', 'bottom', 'countless', 'brave', 'individu', 'known', 'diver', 'sought', 'solv', 'mysteri', 'abyss', 'fearlessli', 'descend', 'darkest', 'realm', 'the', 'best', 'bravest', 'diver', 'white', 'whistl', 'hail', 'legend', 'remain', 'surfac', 'riko', 'daughter', 'miss', 'white', 'whistl', 'lyza', 'annihil', 'aspir', 'becom', 'like', 'mother', 'explor', 'furthest', 'reach', 'abyss', 'howev', 'novic', 'red', 'whistl', 'permit', 'roam', 'upper', 'layer', 'even', 'riko', 'chanc', 'encount', 'mysteri', 'robot', 'appear', 'ordinari', 'young', 'boy', 'she', 'come', 'reg', 'recollect', 'event', 'preced', 'discoveri', 'certain', 'technolog', 'creat', 'reg', 'must', 'deep', 'within', 'abyss', 'two', 'decid', 'ventur', 'forth', 'chasm', 'recov', 'memori', 'see', 'bottom', 'great', 'pit', 'eye', 'howev', 'know', 'harsh', 'realiti', 'true', 'exist', 'abyss', 'written', 'mal', 'rewrit']\n"
     ]
    },
    {
     "name": "stdout",
     "output_type": "stream",
     "text": [
      "['continu', 'peril', 'descent', 'abyss', 'riko', 'regu', 'newfound', 'friend', 'nanachi', 'reach', 'abyss', 'fifth', 'layer', 'the', 'sea', 'corps', 'upon', 'arriv', 'research', 'station', 'known', 'idofront', 'main', 'trio', 'encount', 'mysteri', 'prushka', 'alleg', 'daughter', 'bondrewd', 'lead', 'white', 'whistl', 'respons', 'nanachi', 'dark', 'past', 'despit', 'welcom', 'appear', 'idofront', 'resid', 'nanachi', 'warn', 'young', 'adventur', 'thing', 'alway', 'seem', 'with', 'rout', 'sixth', 'layer', 'shroud', 'mysteri', 'bonedrewd', 'scheme', 'await', 'sacrific', 'must', 'made', 'order', 'continu', 'journey', 'bottom', 'abyss', 'written', 'mal', 'rewrit']\n",
      "['yabuki', 'joe', 'left', 'downheart', 'hopeless', 'certain', 'tragic', 'event', 'in', 'attempt', 'put', 'past', 'behind', 'joe', 'leav', 'gym', 'behind', 'begin', 'wander', 'on', 'travel', 'come', 'across', 'like', 'wolf', 'kanagushi', 'goromaki', 'gondo', 'unintent', 'fan', 'die', 'ember', 'insid', 'lead', 'put', 'wander', 'hi', 'return', 'home', 'put', 'joe', 'back', 'path', 'box', 'unknown', 'trainer', 'suffer', 'issu', 'hold', 'back', 'fight', 'in', 'attempt', 'quell', 'issu', 'carlo', 'rivera', 'world', 'renown', 'boxer', 'invit', 'venezuela', 'help', 'joe', 'recov']\n",
      "['shinji', 'ikari', 'still', 'adrift', 'lose', 'live', 'place', 'arriv', 'teach', 'mean', 'hope', 'final', 'instrument', 'project', 'set', 'motion', 'will', 'make', 'last', 'gruel', 'stand', 'prevent', 'final', 'impact', 'sourc', 'imdb']\n",
      "['eikichi', 'gang', 'leader', 'conqueror', 'shonan', 'dream', 'becom', 'greatest', 'high', 'school', 'teacher', 'japan', 'thi', 'passion', 'teach', 'want', 'love', 'teenag', 'wife', 'old', 'gray', 'still', 'pervert', 'greedi', 'lazi', 'delinqu', 'onizuka', 'meet', 'eye', 'so', 'land', 'job', 'homeroom', 'teacher', 'class', 'prestigi', 'holi', 'forest', 'suplex', 'vice', 'talent', 'put', 'test', 'class', 'particularli', 'infam', 'due', 'utter', 'contempt', 'teacher', 'class', 'student', 'use', 'psycholog', 'warfar', 'mental', 'break', 'new', 'homeroom', 'teacher', 'get', 'forc', 'quit', 'leav', 'school', 'howev', 'onizuka', 'averag', 'teacher', 'readi', 'challeng', 'way', 'bulli', 'suicid', 'sexual', 'harass', 'issu', 'student', 'daili', 'by', 'tackl', 'root', 'problem', 'onizuka', 'support', 'unpredict', 'unconvent', 'mean', 'jump', 'build', 'save', 'suicid', 'child', 'thank', 'eccentr', 'charm', 'natur', 'class', 'slowli', 'learn', 'enjoy', 'school', 'pupil', 'great', 'teacher', 'onizuka', 'written', 'mal', 'rewrit']\n",
      "['music', 'accompani', 'path', 'human', 'metronom', 'prodigi', 'pianist', 'kousei', 'arima', 'but', 'pass', 'mother', 'saki', 'arima', 'kousei', 'fall', 'downward', 'spiral', 'render', 'unabl', 'hear', 'sound', 'piano', 'two', 'year', 'later', 'kousei', 'still', 'avoid', 'piano', 'leav', 'behind', 'admir', 'rival', 'live', 'colorless', 'life', 'alongsid', 'friend', 'tsubaki', 'sawab', 'ryouta', 'watari', 'howev', 'everyth', 'chang', 'meet', 'beauti', 'violinist', 'kaori', 'miyazono', 'stir', 'world', 'set', 'journey', 'music', 'base', 'manga', 'seri', 'approach', 'stori', 'kousei', 'recoveri', 'discov', 'music', 'play', 'note', 'perfectli', 'singl', 'melodi', 'bring', 'fresh', 'spring', 'air', 'april', 'written', 'mal', 'rewrit']\n",
      "['mushi', 'basic', 'form', 'life', 'world', 'they', 'exist', 'without', 'goal', 'purpos', 'asid', 'simpli', 'they', 'beyond', 'shackl', 'word', 'good', 'evil', 'mushi', 'exist', 'countless', 'form', 'capabl', 'mimick', 'thing', 'natur', 'world', 'plant', 'diseas', 'even', 'phenomena', 'like', 'rainbow', 'thi', 'howev', 'vagu', 'definit', 'entiti', 'inhabit', 'vibrant', 'world', 'mushishi', 'even', 'call', 'form', 'life', 'would', 'oversimplif', 'detail', 'inform', 'mushi', 'scarc', 'major', 'human', 'unawar', 'exist', 'so', 'mushi', 'exist', 'thi', 'question', 'mushishi', 'ginko', 'ponder', 'constantli', 'mushishi', 'research', 'mushi', 'hope', 'understand', 'place', 'world', 'hierarchi', 'life', 'ginko', 'chase', 'rumor', 'occurr', 'could', 'tie', 'mushi', 'sake', 'find', 'answer', 'it', 'could', 'lead', 'mean', 'life', 'written', 'mal', 'rewrit']\n",
      "['follow', 'particip', 'karasuno', 'high', 'school', 'volleybal', 'team', 'attempt', 'refocu', 'effort', 'aim', 'conquer', 'spring', 'tournament', 'instead', 'when', 'receiv', 'invit', 'rival', 'nekoma', 'high', 'karasuno', 'agre', 'part', 'larg', 'train', 'camp', 'alongsid', 'mani', 'notabl', 'volleybal', 'team', 'tokyo', 'even', 'nation', 'level', 'player', 'by', 'play', 'toughest', 'team', 'japan', 'hope', 'sharpen', 'skill', 'new', 'attack', 'would', 'strengthen', 'moreov', 'hinata', 'kageyama', 'attempt', 'devis', 'power', 'weapon', 'could', 'possibl', 'break', 'sturdiest', 'block', 'face', 'may', 'last', 'chanc', 'victori', 'senior', 'player', 'graduat', 'member', 'karasuno', 'volleybal', 'team', 'must', 'learn', 'settl', 'differ', 'train', 'harder', 'ever', 'hope', 'overcom', 'formid', 'oppon', 'old', 'archriv', 'aoba', 'jousai', 'setter', 'tooru', 'oikawa', 'written', 'mal', 'rewrit']\n",
      "['japanes', 'featherweight', 'champion', 'ippo', 'makunouchi', 'success', 'defend', 'retain', 'titl', 'meanwhil', 'rival', 'ichir', 'miyata', 'resurfac', 'japan', 'aim', 'featherweight', 'belt', 'orient', 'pacif', 'box', 'feder', 'when', 'rest', 'world', 'come', 'knock', 'howev', 'japan', 'best', 'fighter', 'rise', 'challeng', 'achiev', 'glori', 'top', 'or', 'small', 'island', 'nation', 'crush', 'weight', 'greater', 'entiti', 'thi', 'time', 'champion', 'becom', 'challeng', 'issu', 'call', 'rest', 'world', 'readi', 'show', 'fight', 'spirit', 'written', 'mal', 'rewrit']\n",
      "['that', 'jumbl', 'piec', 'architectur', 'cacophoni', 'hiss', 'steam', 'creak', 'joint', 'smoke', 'billow', 'move', 'that', 'castl', 'home', 'magnific', 'wizard', 'howl', 'infam', 'magic', 'prowess', 'rumor', 'goe', 'sophi', 'hatter', 'small', 'town', 'sophi', 'plain', 'daughter', 'hatmak', 'expect', 'much', 'futur', 'content', 'work', 'hard', 'shop', 'howev', 'sophi', 'simpl', 'life', 'take', 'turn', 'excit', 'ensnar', 'disturb', 'situat', 'mysteri', 'wizard', 'appear', 'rescu', 'unfortun', 'encount', 'brief', 'may', 'spur', 'vain', 'veng', 'witch', 'fit', 'jealousi', 'caus', 'past', 'discord', 'put', 'curs', 'maiden', 'turn', 'old', 'woman', 'in', 'endeavor', 'return', 'normal', 'sophi', 'must', 'accompani', 'howl', 'myriad', 'eccentr', 'power', 'fire', 'demon', 'hop', 'live', 'castl', 'danger', 'adventur', 'rage', 'tear', 'kingdom', 'apart', 'written', 'mal', 'rewrit']\n",
      "['after', 'slow', 'event', 'summer', 'vacat', 'shuchiin', 'academi', 'second', 'term', 'start', 'full', 'forc', 'as', 'august', 'transit', 'septemb', 'miyuki', 'shirogan', 'birthday', 'loom', 'ever', 'closer', 'leav', 'kaguya', 'shinomiya', 'seriou', 'predica', 'celebr', 'furthermor', 'tenur', 'school', '67th', 'student', 'council', 'come', 'due', 'council', 'member', 'differ', 'class', 'time', 'kaguya', 'miyuki', 'togeth', 'soon', 'disappear', 'put', 'cun', 'plan', 'risk', 'a', 'long', 'difficult', 'elect', 'decid', 'fate', 'new', 'student', 'council', 'await', 'multipl', 'challeng', 'fight', 'covet', 'titl', 'presid', 'written', 'mal', 'rewrit']\n",
      "['takashi', 'natsum', 'timid', 'youkai', 'expert', 'master', 'book', 'friend', 'continu', 'journey', 'toward', 'accept', 'help', 'friend', 'new', 'old', 'hi', 'import', 'alli', 'still', 'glutton', 'bodyguard', 'arrog', 'fierc', 'protect', 'wolf', 'spirit', 'madara', 'call', 'usual', 'disguis', 'unassum', 'pudgi', 'natsum', 'briefli', 'separ', 'ambush', 'kidnap', 'strang', 'group', 'mask', 'youkai', 'spirit', 'away', 'forest', 'desper', 'search', 'book', 'friend', 'realiz', 'servant', 'taken', 'right', 'nose', 'enlist', 'help', 'natsum', 'youkai', 'friend', 'mount', 'rescu', 'oper', 'howev', 'forest', 'monkey', 'spirit', 'hold', 'mani', 'danger', 'enemi', 'includ', 'matoba', 'clan', 'natsum', 'old', 'nemesi', 'stretch', 'formid', 'hideout', 'matoba', 'natsum', 'childhood', 'home', 'sweep', 'familiar', 'return', 'world', 'danger', 'friendship', 'natsum', 'final', 'confront', 'demon', 'past', 'written', 'mal', 'rewrit']\n",
      "['the', 'great', 'war', 'final', 'came', 'four', 'long', 'year', 'conflict', 'fractur', 'two', 'contin', 'telesi', 'slowli', 'began', 'flourish', 'caught', 'bloodsh', 'violet', 'evergarden', 'young', 'girl', 'rais', 'sole', 'purpos', 'decim', 'enemi', 'line', 'hospit', 'maim', 'bloodi', 'skirmish', 'war', 'final', 'leg', 'left', 'word', 'person', 'held', 'dearest', 'understand', 'mean', 'recov', 'wound', 'violet', 'start', 'new', 'life', 'work', 'ch', 'postal', 'servic', 'fall', 'new', 'intend', 'guardian', 'famili', 'there', 'wit', 'pure', 'chanc', 'work', 'auto', 'memori', 'doll', 'amanuens', 'transcrib', 'peopl', 'thought', 'feel', 'word', 'paper', 'move', 'notion', 'violet', 'begin', 'work', 'auto', 'memori', 'doll', 'trade', 'adventur', 'reshap', 'live', 'client', 'hope', 'lead', 'written', 'mal', 'rewrit']\n",
      "['takashi', 'natsum', 'grown', 'accustom', 'encount', 'youkai', 'book', 'friend', 'contain', 'name', 'youkai', 'grandmoth', 'reiko', 'natsum', 'seal', 'contract', 'these', 'encount', 'allow', 'natsum', 'better', 'understand', 'youkai', 'reiko', 'the', 'book', 'friend', 'power', 'tool', 'use', 'control', 'youkai', 'sought', 'youkai', 'exorcist', 'alik', 'natsum', 'want', 'live', 'daili', 'life', 'peac', 'constantli', 'disrupt', 'experi', 'if', 'torment', 'natsum', 'must', 'explor', 'book', 'world', 'exorc', 'well', 'begin', 'open', 'heart', 'help', 'written', 'mal', 'rewrit']\n",
      "['six', 'month', 'ago', 'sakuta', 'azusagawa', 'chanc', 'encount', 'bunni', 'girl', 'librari', 'ever', 'sinc', 'bliss', 'happi', 'girlfriend', 'mai', 'sakurajima', 'bunni', 'girl', 'howev', 'reappear', 'mysteri', 'first', 'crush', 'shouko', 'makinohara', 'add', 'new', 'complic', 'relationship', 'mai', 'to', 'make', 'matter', 'wors', 'encount', 'middl', 'school', 'shouko', 'hospit', 'suffer', 'grave', 'ill', 'mysteri', 'old', 'scar', 'begin', 'throb', 'whenev', 'near', 'with', 'shouko', 'bizarr', 'situat', 'somehow', 'revolv', 'around', 'sakuta', 'need', 'term', 'conflict', 'feel', 'better', 'wors', 'with', 'girl', 'life', 'hand', 'written', 'mal', 'rewrit']\n",
      "['simon', 'kamina', 'born', 'rais', 'deep', 'underground', 'villag', 'hidden', 'fabl', 'surfac', 'kamina', 'loos', 'cannon', 'bent', 'make', 'simon', 'timid', 'young', 'boy', 'real', 'aspir', 'one', 'day', 'excav', 'earth', 'simon', 'stumbl', 'upon', 'mysteri', 'object', 'turn', 'ignit', 'key', 'ancient', 'artifact', 'duo', 'dub', 'lagann', 'use', 'new', 'weapon', 'simon', 'kamina', 'fend', 'surpris', 'attack', 'surfac', 'help', 'yoko', 'littner', 'redhead', 'wield', 'massiv', 'gun', 'wander', 'world', 'in', 'aftermath', 'battl', 'sky', 'plain', 'view', 'prompt', 'simon', 'kamina', 'set', 'journey', 'alongsid', 'yoko', 'explor', 'wasteland', 'surfac', 'soon', 'join', 'fight', 'beastmen', 'humanoid', 'creatur', 'terror', 'remnant', 'human', 'power', 'robot', 'call', 'gunmen', 'although', 'challeng', 'setback', 'trio', 'brave', 'fight', 'new', 'enemi', 'alongsid', 'survivor', 'reclaim', 'surfac', 'slowli', 'unravel', 'mysteri', 'written', 'mal', 'rewrit']\n",
      "['the', 'disappear', 'spearhead', 'squadron', 'beyond', 'horizon', 'littl', 'hide', 'intens', 'republ', 'san', 'magnolia', 'endless', 'propaganda', 'vladilena', 'milizé', 'continu', 'oper', 'handler', 'one', 'command', 'yet', 'anoth', 'dehuman', '86th', 'faction', 'squadron', 'continu', 'legion', 'on', 'western', 'front', 'shinei', 'nouzen', 'squad', 'quarantin', 'militari', 'base', 'control', 'feder', 'republ', 'giad', 'formerli', 'known', 'giadian', 'empir', 'the', 'govern', 'grant', 'save', 'full', 'citizenship', 'freedom', 'hous', 'presid', 'ernst', 'zimmerman', 'group', 'meet', 'adopt', 'daughter', 'last', 'empress', 'augusta', 'frederica', 'howev', 'within', 'calm', 'tender', 'societi', 'shinei', 'team', 'feel', 'purpos', 'battlefield', 'befor', 'long', 'midst', 'legion', 'onslaught', 'part', 'federaci', 'nordlicht', 'squadron', 'accompani', 'augusta', 'frederica', 'but', 'histori', 'repeat', 'realiz', 'matter', 'side', 'death', 'pain', 'front', 'line', 'comfort', 'know', 'written', 'mal', 'rewrit']\n",
      "['a', 'shinigami', 'god', 'death', 'kill', 'see', 'victim', 'write', 'victim', 'notebook', 'call', 'death', 'note', 'one', 'day', 'ryuk', 'bore', 'shinigami', 'lifestyl', 'interest', 'see', 'human', 'would', 'use', 'death', 'note', 'drop', 'human', 'realm', 'high', 'school', 'student', 'prodigi', 'light', 'yagami', 'stumbl', 'upon', 'death', 'note', 'deplor', 'state', 'deadli', 'notebook', 'write', 'crimin', 'when', 'crimin', 'immedi', 'follow', 'experi', 'death', 'note', 'light', 'greatli', 'surpris', 'quickli', 'recogn', 'devast', 'power', 'fallen', 'hand', 'could', 'with', 'divin', 'capabl', 'light', 'decid', 'extinguish', 'crimin', 'order', 'build', 'new', 'world', 'crime', 'exist', 'peopl', 'worship', 'god', 'polic', 'howev', 'quickli', 'discov', 'serial', 'killer', 'target', 'crimin', 'consequ', 'tri', 'apprehend', 'culprit', 'to', 'japanes', 'investig', 'count', 'assist', 'best', 'detect', 'world', 'young', 'eccentr', 'known', 'written', 'mal', 'rewrit']\n",
      "['one', 'cold', 'christma', 'day', 'kyon', 'head', 'school', 'so', 'brigad', 'holiday', 'celebr', 'realiz', 'haruhi', 'suzumiya', 'seem', 'disappear', 'moreov', 'even', 'rememb', 'so', 'brigad', 'mikuru', 'asahina', 'know', 'noth', 'afraid', 'itsuki', 'koizumi', 'gone', 'miss', 'the', 'literatur', 'club', 'form', 'uncharacterist', 'shi', 'yuki', 'nagato', 'occupi', 'old', 'so', 'club', 'room', 'base', 'fourth', 'light', 'novel', 'acclaim', 'haruhi', 'seri', 'set', 'event', 'anim', 'seri', 'not', 'uncultur', 'supernatur', 'kyon', 'deal', 'whole', 'life', 'turn', 'upsid', 'like', 'bad', 'joke', 'mayb', 'better', 'way', 'written', 'mal', 'rewrit']\n",
      "['after', 'mysteri', 'calam', 'rudeu', 'greyrat', 'fierc', 'student', 'eri', 'borea', 'greyrat', 'teleport', 'demon', 'contin', 'there', 'team', 'newfound', 'companion', 'ruijerd', 'former', 'leader', 'superd', 'warrior', 'form', 'dead', 'end', 'success', 'adventur', 'parti', 'make', 'trio', 'journey', 'across', 'contin', 'make', 'way', 'back', 'home', 'fittoa', 'follow', 'advic', 'receiv', 'faceless', 'god', 'hitogami', 'rudeu', 'save', 'kishirika', 'kishirisu', 'great', 'emperor', 'demon', 'world', 'reward', 'grant', 'strang', 'power', 'now', 'rudeu', 'master', 'power', 'abil', 'offer', 'number', 'new', 'opportun', 'might', 'prove', 'bargain', 'unexpect', 'danger', 'threaten', 'hinder', 'travel', 'written', 'mal', 'rewrit']\n",
      "['the', 'hero', 'come', 'the', 'hero', 'come', 'the', 'hero', 'come', 'chant', 'word', 'mind', 'i', 'sure', 'thi', 'mantra', 'makoto', 'tsukimoto', 'repeat', 'sourc', 'motiv', 'fight', 'stress', 'gruel', 'ping', 'pong', 'match', 'situat', 'life', 'makoto', 'fight', 'alon', 'friend', 'yutaka', 'hoshino', 'nicknam', 'smile', 'peco', 'respect', 'two', 'boy', 'grown', 'play', 'ping', 'pong', 'togeth', 'nearli', 'everi', 'day', 'peco', 'brim', 'confid', 'aim', 'best', 'tabl', 'tenni', 'player', 'world', 'smile', 'hand', 'show', 'littl', 'ambit', 'nevertheless', 'two', 'alway', 'stuck', 'togeth', 'bond', 'built', 'upon', 'mutual', 'love', 'sport', 'everi', 'year', 'student', 'across', 'japan', 'gather', 'tabl', 'tenni', 'competit', 'achiev', 'nation', 'intern', 'stardom', 'through', 'intens', 'train', 'competit', 'best', 'persever', 'from', 'director', 'masaaki', 'yuasa', 'serv', 'ambit', 'fair', 'share', 'bump', 'along', 'way', 'whatev', 'odd', 'peco', 'smile', 'togeth', 'written', 'mal', 'rewrit']\n",
      "['still', 'threaten', 'titan', 'rob', 'freedom', 'mankind', 'remain', 'cage', 'insid', 'two', 'remain', 'wall', 'effort', 'erad', 'monster', 'continu', 'howev', 'threat', 'aris', 'titan', 'beyond', 'wall', 'human', 'within', 'well', 'after', 'rescu', 'coloss', 'armor', 'titan', 'eren', 'yaeger', 'devot', 'improv', 'titan', 'form', 'krista', 'lenz', 'struggl', 'accept', 'loss', 'friend', 'captain', 'levi', 'choos', 'eren', 'friend', 'form', 'new', 'person', 'squad', 'command', 'erwin', 'smith', 'recov', 'injuri', 'all', 'seem', 'well', 'soldier', 'govern', 'suddenli', 'demand', 'custodi', 'eren', 'krista', 'the', 'survey', 'corp', 'recent', 'success', 'drawn', 'attent', 'familiar', 'levi', 'past', 'sent', 'collect', 'want', 'soldier', 'sought', 'govern', 'levi', 'new', 'squad', 'must', 'evad', 'adversari', 'hope', 'keep', 'eren', 'krista', 'safe', 'in', 'eren', 'fellow', 'soldier', 'fight', 'surviv', 'terrifi', 'titan', 'terror', 'far', 'conniv', 'foe', 'human', 'written', 'mal', 'rewrit']\n",
      "['on', 'warm', 'summer', 'day', 'boy', 'heard', 'sound', 'bell', 'ring', 'celebr', 'mountain', 'near', 'home', 'sever', 'year', 'later', 'mountain', 'mushishi', 'ginko', 'encount', 'strang', 'girl', 'weed', 'grow', 'bodi', 'soon', 'ginko', 'coincident', 'run', 'boy', 'yoshiro', 'way', 'mountain', 'with', 'yoshiro', 'help', 'ginko', 'soon', 'begin', 'uncov', 'mysteri', 'girl', 'happen', 'an', 'adapt', 'last', 'arc', 'manga', 'follow', 'ginko', 'peculiar', 'journey', 'amidst', 'occult', 'unravel', 'mysteri', 'behind', 'enigmat', 'girl', 'call', 'kaya', 'mountain', 'becom', 'home', 'written', 'mal', 'rewrit']\n",
      "['hana', 'colleg', 'student', 'fall', 'love', 'mysteri', 'attend', 'class', 'though', 'actual', 'student', 'as', 'turn', 'truli', 'human', 'either', 'on', 'full', 'moon', 'night', 'transform', 'reveal', 'last', 'werewolf', 'aliv', 'despit', 'hana', 'love', 'remain', 'strong', 'two', 'ultim', 'decid', 'start', 'famili', 'hana', 'give', 'birth', 'two', 'healthi', 'born', 'rainfal', 'yuki', 'born', 'possess', 'abil', 'turn', 'wolv', 'trait', 'inherit', 'father', 'all', 'soon', 'howev', 'sudden', 'death', 'lover', 'devast', 'hana', 'life', 'leav', 'rais', 'peculiar', 'famili', 'complet', 'the', 'stress', 'rais', 'children', 'dens', 'popul', 'citi', 'keep', 'ident', 'secret', 'culmin', 'decis', 'move', 'countrysid', 'hope', 'ame', 'yuki', 'live', 'life', 'free', 'judgment', 'societi', 'heartwarm', 'stori', 'challeng', 'singl', 'mother', 'unforgiv', 'modern', 'world', 'written', 'mal', 'rewrit']\n",
      "['gol', 'roger', 'known', 'pirat', 'king', 'strongest', 'infam', 'sail', 'grand', 'line', 'the', 'captur', 'execut', 'roger', 'world', 'govern', 'brought', 'chang', 'throughout', 'world', 'hi', 'last', 'word', 'death', 'reveal', 'exist', 'greatest', 'treasur', 'world', 'one', 'piec', 'it', 'revel', 'brought', 'grand', 'age', 'pirat', 'dream', 'find', 'one', 'promis', 'unlimit', 'amount', 'rich', 'quit', 'possibl', 'pinnacl', 'glori', 'titl', 'pirat', 'king', 'enter', 'monkey', 'luffi', 'boy', 'defi', 'standard', 'definit', 'pirat', 'rather', 'popular', 'persona', 'wick', 'harden', 'toothless', 'pirat', 'ransack', 'villag', 'fun', 'luffi', 'reason', 'pirat', 'pure', 'wonder', 'thought', 'excit', 'adventur', 'lead', 'intrigu', 'peopl', 'ultim', 'promis', 'treasur', 'follow', 'footstep', 'childhood', 'hero', 'luffi', 'crew', 'travel', 'across', 'grand', 'line', 'experienc', 'crazi', 'adventur', 'unveil', 'dark', 'mysteri', 'battl', 'strong', 'enemi', 'order', 'reach', 'covet', 'piec', 'written', 'mal', 'rewrit']\n",
      "['no', 'longer', 'truli', 'human', 'koyomi', 'araragi', 'decid', 'retriev', 'sever', 'bodi', 'part', 'stolen', 'three', 'power', 'vampir', 'hunter', 'await', 'dramaturgi', 'vampir', 'hunter', 'vampir', 'episod', 'abil', 'transform', 'mist', 'guillotinecutt', 'human', 'priest', 'danger', 'unbeknownst', 'araragi', 'minut', 'spend', 'tri', 'retriev', 'limb', 'make', 'less', 'human', 'vampir', 'will', 'abl', 'keep', 'wish', 'becom', 'human', 'battl', 'written', 'mal', 'rewrit']\n",
      "['in', 'coastal', 'citi', 'napl', 'corrupt', 'polic', 'blatantli', 'conspir', 'outlaw', 'drug', 'run', 'rampant', 'around', 'youth', 'mafia', 'govern', 'street', 'iron', 'fist', 'howev', 'variou', 'fate', 'encount', 'soon', 'occur', 'enter', 'giorno', 'giovanna', 'boy', 'eccentr', 'connect', 'joestar', 'famili', 'make', 'live', 'job', 'pickpocket', 'furthermor', 'gift', 'unexplain', 'stand', 'abil', 'give', 'creat', 'plant', 'ground', 'turn', 'inanim', 'object', 'live', 'anim', 'abil', 'dub', 'gold', 'experi', 'fascin', 'might', 'local', 'gangster', 'giorno', 'dream', 'rise', 'rank', 'becom', 'feat', 'made', 'possibl', 'encount', 'bruno', 'buccellati', 'member', 'passion', 'gang', 'sens', 'justic', 'follow', 'endeavor', 'giorno', 'join', 'bruno', 'team', 'work', 'passion', 'fend', 'gangster', 'secretli', 'plot', 'overthrow', 'mysteri', 'boss', 'written', 'mal', 'rewrit']\n"
     ]
    },
    {
     "name": "stdout",
     "output_type": "stream",
     "text": [
      "['yotar', 'former', 'yakuza', 'member', 'fresh', 'prison', 'fixat', 'thing', 'rather', 'return', 'life', 'crime', 'young', 'aspir', 'stage', 'rakugo', 'tradit', 'japanes', 'form', 'comed', 'storytel', 'inspir', 'incarcer', 'perform', 'distinguish', 'practition', 'yakumo', 'yuurakutei', 'set', 'mind', 'meet', 'chang', 'life', 'after', 'hear', 'yotar', 'desper', 'appeal', 'mentorship', 'yakumo', 'left', 'choic', 'accept', 'first', 'apprentic', 'as', 'eagerli', 'begin', 'train', 'yotar', 'meet', 'konatsu', 'abras', 'young', 'woman', 'yakumo', 'ever', 'sinc', 'belov', 'father', 'sukeroku', 'yuurakutei', 'anoth', 'prolif', 'rakugo', 'perform', 'pass', 'away', 'through', 'hidden', 'passion', 'yotar', 'drawn', 'sukeroku', 'uniqu', 'style', 'rakugo', 'despit', 'learn', 'contrast', 'techniqu', 'upon', 'see', 'old', 'memori', 'feel', 'return', 'yakumo', 'reminisc', 'much', 'earlier', 'time', 'made', 'promis', 'greatest', 'rival', 'stori', 'set', 'past', 'present', 'depict', 'art', 'rakugo', 'relationship', 'creat', 'live', 'heart', 'dedic', 'keep', 'uniqu', 'form', 'storytel', 'aliv', 'written', 'mal', 'rewrit']\n",
      "['one', 'autumn', 'even', 'mysteri', 'ramen', 'stand', 'behind', 'shimogamo', 'shrine', 'lone', 'colleg', 'student', 'bump', 'head', 'call', 'god', 'matrimoni', 'meet', 'caus', 'student', 'reflect', 'upon', 'past', 'two', 'year', 'year', 'bitterli', 'spent', 'tri', 'break', 'coupl', 'campu', 'friend', 'ozu', 'seemingli', 'set', 'make', 'life', 'miser', 'possibl', 'resolv', 'make', 'rest', 'colleg', 'life', 'student', 'attempt', 'ask', 'unsoci', 'underclassman', 'akashi', 'yet', 'fail', 'follow', 'prompt', 'regret', 'live', 'colleg', 'life', 'differ', 'as', 'soon', 'thought', 'pass', 'head', 'howev', 'hurtl', 'time', 'space', 'begin', 'year', 'colleg', 'given', 'anoth', 'chanc', 'live', 'life', 'surreal', 'artist', 'chronicl', 'misadventur', 'young', 'journey', 'make', 'friend', 'find', 'love', 'experi', 'campu', 'life', 'alway', 'dream', 'written', 'mal', 'rewrit']\n",
      "['season', '5']\n",
      "['follow', 'takashi', 'natsum', 'boy', 'abl', 'see', 'youkai', 'natsum', 'bodyguard', 'madara', 'nicknam', 'continu', 'quest', 'releas', 'youkai', 'contract', 'book', 'friend', 'natsum', 'come', 'term', 'abil', 'see', 'youkai', 'stop', 'think', 'curs', 'as', 'spend', 'time', 'human', 'youkai', 'friend', 'realiz', 'much', 'valu', 'decid', 'choos', 'spirit', 'human', 'world', 'happi', 'written', 'mal', 'rewrit']\n",
      "['surround', 'forest', 'gate', 'entranc', 'grace', 'field', 'hous', 'inhabit', 'orphan', 'happili', 'live', 'togeth', 'big', 'famili', 'look', 'mama', 'isabella', 'although', 'requir', 'test', 'daili', 'children', 'free', 'spend', 'time', 'see', 'fit', 'usual', 'play', 'outsid', 'long', 'ventur', 'far', 'rule', 'expect', 'follow', 'matter', 'howev', 'good', 'time', 'must', 'everi', 'month', 'child', 'adopt', 'sent', 'live', 'new', 'famili', 'never', 'heard', 'howev', 'three', 'oldest', 'sibl', 'suspicion', 'actual', 'happen', 'orphanag', 'discov', 'cruel', 'fate', 'await', 'children', 'live', 'grace', 'field', 'includ', 'twist', 'natur', 'belov', 'mama', 'written', 'mal', 'rewrit']\n",
      "['as', 'fourth', 'holi', 'grail', 'war', 'rage', 'clear', 'victor', 'sight', 'remain', 'servant', 'master', 'call', 'upon', 'church', 'supervisor', 'risei', 'kotomin', 'order', 'band', 'togeth', 'confront', 'impend', 'threat', 'could', 'unravel', 'grail', 'war', 'bring', 'destruct', 'fuyuki', 'citi', 'the', 'uneasi', 'truce', 'soon', 'collaps', 'master', 'demonstr', 'anyth', 'power', 'matter', 'despic', 'win', 'seed', 'doubt', 'sown', 'kiritsugu', 'emiya', 'saber', 'servant', 'conflict', 'ideolog', 'heroism', 'chivalri', 'clash', 'meanwhil', 'omin', 'bond', 'form', 'kirei', 'kotomin', 'still', 'seek', 'find', 'purpos', 'life', 'remain', 'servant', 'as', 'countdown', 'reach', 'zero', 'cost', 'win', 'begin', 'blur', 'line', 'victori', 'defeat', 'written', 'mal', 'rewrit']\n",
      "['a', 'year', 'pass', 'sinc', 'tooru', 'honda', 'began', 'live', 'souma', 'resid', 'sinc', 'creat', 'stronger', 'relationship', 'inhabit', 'shigur', 'kyou', 'yuki', 'she', 'grown', 'closer', 'rest', 'souma', 'famili', 'becom', 'familiar', 'ancestr', 'secret', 'help', 'mani', 'person', 'issu', 'the', 'closer', 'tooru', 'get', 'howev', 'begin', 'realiz', 'secret', 'hold', 'darker', 'truth', 'first', 'presum', 'summer', 'approach', 'tooru', 'invit', 'spend', 'day', 'souma', 'mainli', 'kyou', 'yuki', 'tooru', 'wish', 'vacat', 'close', 'relationship', 'two', 'boy', 'rest', 'souma', 'may', 'prove', 'caus', 'troubl', 'as', 'grow', 'intim', 'carefre', 'time', 'togeth', 'hinder', 'older', 'hardship', 'feel', 'past', 'begin', 'resurfac', 'the', 'etern', 'banquet', 'dawn', 'member', 'zodiac', 'must', 'tend', 'duti', 'alongsid', 'unnerv', 'head', 'famili', 'akito', 'souma', 'with', 'banquet', 'approach', 'plethora', 'feel', 'solv', 'tooru', 'life', 'souma', 'remain', 'peac', 'find', 'situat', 'escap', 'written', 'mal', 'rewrit']\n",
      "['japanes', 'featherweight', 'champion', 'makunouchi', 'ippo', 'defend', 'titl', 'belt', 'help', 'devast', 'signatur', 'move', 'dempsey', 'roll', 'howev', 'new', 'challeng', 'rise', 'left', 'right', 'claim', 'answer', 'move', 'respons', 'crush', 'oppon', 'will', 'ippo', 'abl', 'step', 'challeng', 'weight', 'pride', 'destroy', 'find', 'mean', 'strong', 'meanwhil', 'fellow', 'kamogawa', 'gym', 'mate', 'aoki', 'masaru', 'hop', 'skip', 'frog', 'punch', 'away', 'claim', 'belt', 'readi', 'japanes', 'lightweight', 'champion', 'continu', 'ippo', 'quest', 'becom', 'stronger', 'featur', 'cast', 'loveabl', 'dimwit', 'kamogawa', 'gym', 'put', 'bodi', 'heart', 'line', 'make', 'way', 'harsh', 'world', 'profession', 'box', 'with', 'iron', 'ippo', 'step', 'ring', 'written', 'mal', 'rewrit']\n",
      "['the', 'aloof', 'protagonist', 'bookworm', 'deepli', 'detach', 'world', 'resid', 'he', 'interest', 'other', 'firmli', 'convinc', 'nobodi', 'interest', 'either', 'hi', 'stori', 'begin', 'stumbl', 'across', 'handwritten', 'book', 'titl', 'live', 'dy', 'he', 'soon', 'identifi', 'secret', 'diari', 'belong', 'popular', 'bubbl', 'classmat', 'sakura', 'yamauchi', 'she', 'confid', 'pancreat', 'diseas', 'suffer', 'time', 'left', 'finit', 'onli', 'famili', 'know', 'termin', 'ill', 'even', 'best', 'friend', 'awar', 'despit', 'revel', 'show', 'zero', 'sympathi', 'plight', 'caught', 'wave', 'sakura', 'persist', 'buoyanc', 'eventu', 'conced', 'accompani', 'remain', 'day', 'as', 'pair', 'polar', 'opposit', 'interact', 'connect', 'strengthen', 'interweav', 'choic', 'made', 'pass', 'day', 'her', 'appar', 'nonchal', 'unpredict', 'disrupt', 'protagonist', 'impass', 'flow', 'life', 'gradual', 'open', 'heart', 'discov', 'embrac', 'true', 'mean', 'live', 'written', 'mal', 'rewrit']\n",
      "['ever', 'sinc', 'death', 'father', 'burden', 'support', 'famili', 'fallen', 'upon', 'tanjir', 'kamado', 'shoulder', 'though', 'live', 'impoverish', 'remot', 'mountain', 'kamado', 'famili', 'abl', 'enjoy', 'rel', 'peac', 'happi', 'life', 'one', 'day', 'tanjir', 'decid', 'go', 'local', 'villag', 'make', 'littl', 'money', 'sell', 'charcoal', 'on', 'way', 'back', 'night', 'fall', 'forc', 'tanjir', 'shelter', 'hous', 'strang', 'warn', 'exist', 'demon', 'lurk', 'wood', 'night', 'when', 'final', 'arriv', 'back', 'home', 'next', 'day', 'horrifi', 'whole', 'famili', 'slaughter', 'wors', 'still', 'sole', 'survivor', 'sister', 'nezuko', 'turn', 'bloodthirsti', 'demon', 'consum', 'rage', 'hatr', 'tanjir', 'swear', 'aveng', 'famili', 'stay', 'remain', 'sibl', 'alongsid', 'mysteri', 'group', 'call', 'demon', 'slayer', 'corp', 'tanjir', 'whatev', 'take', 'slay', 'demon', 'protect', 'remnant', 'belov', 'sister', 'human', 'written', 'mal', 'rewrit']\n",
      "['human', 'enjoy', 'lavish', 'peac', 'prosper', 'live', 'seven', 'year', 'sinc', 'day', 'almighti', 'spiral', 'king', 'day', 'reclaim', 'homeland', 'earth', 'howev', 'boon', 'lifestyl', 'leav', 'unprepar', 'unknown', 'hostil', 'threat', 'aris', 'due', 'human', 'popul', 'thi', 'calam', 'fearsom', 'enemi', 'unparallel', 'power', 'as', 'spiral', 'king', 'prognosi', 'postul', 'destruct', 'the', 'spiral', 'world', 'begin', 'true', 'piec', 'place', 'team', 'readi', 'with', 'late', 'brother', 'hope', 'see', 'better', 'futur', 'mankind', 'nia', 'teppelin', 'rest', 'determin', 'overthrow', 'mighti', 'order', 'reviv', 'human', 'lost', 'hope', 'written', 'mal', 'rewrit']\n",
      "['the', 'entir', 'countrysid', 'come', 'halt', 'midday', 'wit', 'rare', 'solar', 'eclips', 'rumor', 'allow', 'averag', 'person', 'see', 'mushi', 'unabl', 'avert', 'gaze', 'air', 'full', 'awe', 'know', 'mushi', 'prepar', 'eclips', 'aftermath', 'base', 'predict', 'tanyuu', 'karibusa', 'curs', 'record', 'mushishi', 'ginko', 'find', 'unlucki', 'farm', 'villag', 'immedi', 'follow', 'solar', 'eclips', 'strang', 'black', 'cloud', 'begin', 'gather', 'sky', 'block', 'sun', 'suspect', 'work', 'mushi', 'known', 'hihami', 'ginko', 'seek', 'liber', 'villag', 'perpetu', 'dark', 'howev', 'seem', 'villag', 'eager', 'return', 'light', 'written', 'mal', 'rewrit']\n",
      "['as', 'prequel', 'takashi', 'natsum', 'boy', 'abil', 'see', 'youkai', 'sinc', 'young', 'bodyguard', 'youkai', 'madara', 'nicknam', 'natsum', 'attempt', 'return', 'name', 'written', 'book', 'friend', 'inherit', 'grandmoth', 'reiko', 'youkai', 'villag', 'throughout', 'adventur', 'meet', 'youkai', 'friendli', 'steal', 'book', 'kill', 'natsum', 'learn', 'relationship', 'mysteri', 'be', 'along', 'way', 'written', 'mal', 'rewrit']\n",
      "['onto', 'third', 'serial', 'manga', 'duo', 'moritaka', 'mashiro', 'akito', 'known', 'pen', 'muto', 'ever', 'closer', 'dream', 'anim', 'adapt', 'howev', 'real', 'challeng', 'begin', 'unabl', 'compet', 'artist', 'eiji', 'niizuma', 'rank', 'within', 'span', 'six', 'month', 'cancel', 'to', 'top', 'numer', 'rival', 'close', 'behind', 'declar', 'they', 'even', 'enough', 'time', 'spare', 'think', 'anim', 'in', 'muto', 'ashirogi', 'must', 'find', 'way', 'stay', 'atop', 'coloss', 'mountain', 'known', 'shounen', 'jack', 'rank', 'with', 'new', 'problem', 'new', 'assist', 'pair', 'continu', 'strive', 'dream', 'written', 'mal', 'rewrit']\n",
      "['the', 'fifth', 'holi', 'grail', 'war', 'continu', 'ensu', 'chao', 'result', 'higher', 'stake', 'particip', 'shirou', 'emiya', 'continu', 'particip', 'aspir', 'hero', 'justic', 'save', 'everyon', 'he', 'set', 'search', 'truth', 'behind', 'mysteri', 'dark', 'shadow', 'murder', 'spree', 'determin', 'defeat', 'meanwhil', 'shinji', 'matou', 'set', 'plan', 'motion', 'threaten', 'shirou', 'sister', 'sakura', 'matou', 'shirou', 'rin', 'toosaka', 'battl', 'shinji', 'hope', 'reliev', 'sakura', 'abus', 'brother', 'but', 'ugli', 'truth', 'matou', 'sibl', 'begin', 'surfac', 'mani', 'dark', 'secret', 'expos', 'continu', 'focu', 'remain', 'master', 'servant', 'fight', 'hope', 'obtain', 'holi', 'grail', 'howev', 'dark', 'aris', 'within', 'fuyuki', 'citi', 'even', 'state', 'sacr', 'could', 'danger', 'written', 'mal', 'rewrit']\n",
      "['in', 'novemb', '1998', 'doubl', 'homicid', 'occur', 'newli', 'construct', 'ogawa', 'apart', 'complex', 'heart', 'mifun', 'citi', 'the', 'murder', 'tomo', 'enjou', 'fled', 'panic', 'to', 'astonish', 'pursu', 'polic', 'news', 'incid', 'report', 'media', 'outlet', 'after', 'shiki', 'ryougi', 'defend', 'tomo', 'group', 'thug', 'allow', 'use', 'resid', 'hideout', 'howev', 'day', 'later', 'tomo', 'shaken', 'discov', 'mother', 'aliv', 'even', 'though', 'convinc', 'kill', 'coincident', 'mikiya', 'kokut', 'investig', 'tip', 'associ', 'touko', 'aozaki', 'receiv', 'regard', 'murder', 'uniqu', 'apart', 'complex', 'as', 'uncov', 'inform', 'incid', 'mikiya', 'take', 'particular', 'interest', 'tomo', 'decid', 'investig', 'mikiya', 'soon', 'discov', 'disturb', 'truth', 'forebod', 'ogawa', 'complex', 'the', 'fifth', 'instal', 'film', 'seri', 'combin', 'intric', 'construct', 'mysteri', 'establish', 'theme', 'charact', 'produc', 'dark', 'stori', 'written', 'mal', 'rewrit']\n"
     ]
    }
   ],
   "source": [
    "# t1 = time.time()\n",
    "# sentence = ds.loc[1].anime_description\n",
    "# preprocess(sentence)\n",
    "# t2 = time.time()\n",
    "# print(t2 - t1)\n",
    "index_dict = {}\n",
    "for i in ds.anime_description:\n",
    "    l = preprocess(i)\n",
    "    print(l)\n",
    "# a_file = open(\"data.pkl\", \"wb\")\n",
    "# pickle.dump(dictionary_data, a_file)\n",
    "\n",
    "# a_file = open(\"data.pkl\", \"rb\")\n",
    "# output = pickle.load(a_file)\n",
    "# print(output)"
   ]
  },
  {
   "cell_type": "markdown",
   "metadata": {},
   "source": [
    "## 5. Algorithmic question\n",
    "\n",
    " In this problem, the goal is to maximize the sum of values contained in a list, where each value represents the time that the person who made the appointment wants to spend with the personal trainer, so you want to provide the personal trainer with a program that maximizes the total length of accepted appointments. \n",
    "The important condition is that the personal trainer needs a break between appointments and cannot accept two consecutive bookings. In addition, reservations are considered in the order in which they were made, so that the personal trainer cannot go back and accept past bookings, but must follow the chronological order. \n",
    "\n",
    "Therefore, considering the need for a break between one appointment and another and considering that past appointments cannot be accepted but it is necessary to keep to the chronological order, one solution could be to scroll through the list of bookings twice, that is once starting from the first reservation and then from the index 0, or even, and continuing with step 2 for all even indices and scroll the list a second time starting from the second reservation and then from the index 1, or odd, and proceeding with step 2 for all odd indices. \n",
    "Then add the values of the even and odd indices and compare the obtained values. The path that maximizes the sum, will be preferred. \n"
   ]
  },
  {
   "cell_type": "code",
   "execution_count": 28,
   "metadata": {},
   "outputs": [],
   "source": [
    "def appointments(appointments):\n",
    "    l1 = []\n",
    "    res1 = 0\n",
    "    l2 = []\n",
    "    res2 = 0\n",
    "    for i in range(len(appointments)):\n",
    "        if ((i % 2) == 0):\n",
    "            res1 += appointments[i]\n",
    "            l1.append(appointments[i])\n",
    "        else:\n",
    "            res2 += appointments[i]\n",
    "            l2.append(appointments[i])\n",
    "    if (res1 > res2):\n",
    "        return l1, res1\n",
    "    else:\n",
    "        return l2, res2"
   ]
  },
  {
   "cell_type": "code",
   "execution_count": 29,
   "metadata": {},
   "outputs": [
    {
     "name": "stdout",
     "output_type": "stream",
     "text": [
      "The list is: [30, 40, 25, 50, 30, 20] \n",
      "\n",
      "The best way to accept reservations in the given order is: [40, 50, 20] with max duration of: 110\n"
     ]
    }
   ],
   "source": [
    "mylist = [30, 40, 25, 50, 30, 20] \n",
    "print('The list is:', mylist, '\\n') \n",
    " \n",
    "print('The best way to accept reservations in the given order is:', appointments(mylist)[0], 'with max duration of:', appointments(mylist)[1])"
   ]
  },
  {
   "cell_type": "code",
   "execution_count": null,
   "metadata": {},
   "outputs": [],
   "source": []
  }
 ],
 "metadata": {
  "colab": {
   "collapsed_sections": [],
   "include_colab_link": true,
   "name": "homework3.ipynb",
   "provenance": []
  },
  "kernelspec": {
   "display_name": "Python 3",
   "language": "python",
   "name": "python3"
  },
  "language_info": {
   "codemirror_mode": {
    "name": "ipython",
    "version": 3
   },
   "file_extension": ".py",
   "mimetype": "text/x-python",
   "name": "python",
   "nbconvert_exporter": "python",
   "pygments_lexer": "ipython3",
   "version": "3.8.8"
  }
 },
 "nbformat": 4,
 "nbformat_minor": 1
}
